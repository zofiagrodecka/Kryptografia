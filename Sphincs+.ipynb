{
 "cells": [
  {
   "cell_type": "markdown",
   "id": "0ebd8531",
   "metadata": {},
   "source": [
    "# Sphincs+ algorithm"
   ]
  },
  {
   "cell_type": "code",
   "execution_count": 1,
   "id": "acfe8d79",
   "metadata": {},
   "outputs": [],
   "source": [
    "from math import ceil, floor, log2\n",
    "from copy import deepcopy\n",
    "from hashlib import sha256\n",
    "import hmac\n",
    "from cryptography.hazmat.primitives import hashes\n",
    "from cryptography.hazmat.primitives.asymmetric import padding"
   ]
  },
  {
   "cell_type": "markdown",
   "id": "1ed52d83",
   "metadata": {},
   "source": [
    "## Useful functions"
   ]
  },
  {
   "cell_type": "code",
   "execution_count": 2,
   "id": "77a7ab08",
   "metadata": {},
   "outputs": [],
   "source": [
    "def rot_left(n, d):\n",
    "    return (n << d)|(n >> (32 - d)) & 0xFFFFFFFF\n",
    "\n",
    "def rot_right(n, d):\n",
    "    return (n >> d)|(n << (32 - d)) & 0xFFFFFFFF"
   ]
  },
  {
   "cell_type": "markdown",
   "id": "f73aec7d",
   "metadata": {},
   "source": [
    "A byte string can be considered as a string of base w numbers, i.e. integers in the set {0, . . . , w−\n",
    "1}. The correspondence is defined by the function base_w(X, w, out_len) as follows. Let X be\n",
    "a len_X- byte string, and w is an element of the set {4, 16, 256}, then base_w(X, w, out_len)\n",
    "outputs an array of out_len integers between 0 and w − 1 (Figure 1). The length out_len is\n",
    "REQUIRED to be less than or equal to 8 ∗ len_X/ log(w)."
   ]
  },
  {
   "cell_type": "code",
   "execution_count": 3,
   "id": "f2368c5e",
   "metadata": {},
   "outputs": [
    {
     "data": {
      "text/plain": [
       "[1, 2, 3, 4]"
      ]
     },
     "execution_count": 3,
     "metadata": {},
     "output_type": "execute_result"
    }
   ],
   "source": [
    "def base_w(X, w, out_len):\n",
    "    i = 0\n",
    "    total = 0\n",
    "    bits = 0\n",
    "    basew = []\n",
    "    for consumed in range(out_len):\n",
    "        if bits == 0:\n",
    "            total = X[i]\n",
    "            i += 1\n",
    "            bits += 8\n",
    "        bits -= int(log2(w))\n",
    "        basew.append(rot_right(total, bits) & (w-1))\n",
    "    return basew\n",
    "\n",
    "base_w(b'\\x12\\x34', 16, 4)"
   ]
  },
  {
   "cell_type": "code",
   "execution_count": 4,
   "id": "3bc06f64",
   "metadata": {},
   "outputs": [],
   "source": [
    "def xor(a, b):\n",
    "    return bytearray([a[i] ^ b[i] for i in range(len(a))])"
   ]
  },
  {
   "cell_type": "code",
   "execution_count": 5,
   "id": "187fa896",
   "metadata": {},
   "outputs": [],
   "source": [
    "def num_to_bytes(num, length=8):\n",
    "    return int.to_bytes(num, length=length, byteorder='big')"
   ]
  },
  {
   "cell_type": "markdown",
   "id": "ee5b7b1d",
   "metadata": {},
   "source": [
    "## Hash Functions"
   ]
  },
  {
   "cell_type": "markdown",
   "id": "f58c58fb",
   "metadata": {},
   "source": [
    "<font color='red'>TODO: Shorter Outputs. If a parameter set requires an output length n < 32-bytes for F, H, PRF,and PRFmsg we take the first n bytes of the output and discard the remaining.</font>\n"
   ]
  },
  {
   "cell_type": "code",
   "execution_count": 6,
   "id": "8df055f9",
   "metadata": {},
   "outputs": [],
   "source": [
    "def MGF1(m, size, h=sha256):\n",
    "    hlen = 32\n",
    "    output = bytearray()\n",
    "    for i in range(0, ceil(size/hlen)):\n",
    "        ibytes = i.to_bytes(4, 'big')\n",
    "        tmp = h(m + ibytes).digest()\n",
    "        output = output + tmp\n",
    "    return output[: size + 1]"
   ]
  },
  {
   "cell_type": "code",
   "execution_count": 7,
   "id": "37bec7bf",
   "metadata": {},
   "outputs": [],
   "source": [
    "def generate_mask(m, pk_seed, adrs, mask_len):\n",
    "    m_arr = bytearray(m)\n",
    "    mask = MGF1(pk_seed + adrs, mask_len)\n",
    "    return xor(m_arr,mask)"
   ]
  },
  {
   "cell_type": "code",
   "execution_count": 8,
   "id": "78f8ed90",
   "metadata": {
    "scrolled": true
   },
   "outputs": [
    {
     "data": {
      "text/plain": [
       "bytearray(b'wz\\xdc\\xba\\x0e]\\xfb\\xce\\xda\\x0c\\xe0R\\xd4\\xf26\\x8d\\x0e\\x82\\xce<\\x9f|\\xf7h\\xf8.\\n\\xd8t\\xd2\\xc5H')"
      ]
     },
     "execution_count": 8,
     "metadata": {},
     "output_type": "execute_result"
    }
   ],
   "source": [
    "import os\n",
    "arr = bytearray([0, 0, 1, 0, 0, 0, 0, 0])\n",
    "pk_seed = os.urandom(32)\n",
    "mask_len = 32\n",
    "test_m = ('t'*32).encode('utf-8')\n",
    "\n",
    "generate_mask(test_m, pk_seed, arr, mask_len)"
   ]
  },
  {
   "cell_type": "code",
   "execution_count": 9,
   "id": "7c2609e3",
   "metadata": {},
   "outputs": [],
   "source": [
    "def F(pk_seed, adrs, m1):\n",
    "    mask = generate_mask(m1, pk_seed, adrs, len(m1))\n",
    "    mess = pk_seed + adrs + mask\n",
    "    return sha256(mess).digest()"
   ]
  },
  {
   "cell_type": "code",
   "execution_count": 10,
   "id": "493a1444",
   "metadata": {},
   "outputs": [
    {
     "data": {
      "text/plain": [
       "b'\\x9b\\xeaH\\xcf0^\\xda9\\xc0\\xafD`\\xef\\xf6\\xb3\\x9d\\xab\\xdfk\\xf3X0\\x91\\xca\\x1c\\xe4^\\xf5\\xdf}\\xd0\\x96'"
      ]
     },
     "execution_count": 10,
     "metadata": {},
     "output_type": "execute_result"
    }
   ],
   "source": [
    "F(pk_seed, arr, test_m)"
   ]
  },
  {
   "cell_type": "code",
   "execution_count": 11,
   "id": "b8875cdc",
   "metadata": {},
   "outputs": [
    {
     "data": {
      "text/plain": [
       "b'\\xd2\\x89\\x82\\xd3\\xed\\xfcRqS\\x93\\xbe56\\xf5E\\x97;]\\xd4C\\x9bl\\xa5e>\\xa2\\x95\\xbb\\xe0X\\xc2\\xcf'"
      ]
     },
     "execution_count": 11,
     "metadata": {},
     "output_type": "execute_result"
    }
   ],
   "source": [
    "def H(pk_seed, adrs, m1, m2):\n",
    "    mask1 = generate_mask(m1, pk_seed, adrs, len(m1))\n",
    "    mask2 = generate_mask(m2, pk_seed, adrs, len(m2))\n",
    "    mess = pk_seed + adrs + mask1 + mask2\n",
    "    return sha256(mess).digest()\n",
    "\n",
    "H(pk_seed, arr, test_m, test_m[:-1] + b'u')"
   ]
  },
  {
   "cell_type": "code",
   "execution_count": 12,
   "id": "e55826a6",
   "metadata": {},
   "outputs": [],
   "source": [
    "def H_msg(r, pk_seed, pk_root, m):\n",
    "    mess = r + pk_seed + pk_root + m\n",
    "    sha = sha256(mess).digest()\n",
    "    return MGF1(sha, len(m))"
   ]
  },
  {
   "cell_type": "code",
   "execution_count": 13,
   "id": "64125cb2",
   "metadata": {},
   "outputs": [],
   "source": [
    "def PRF(seed, adrs):\n",
    "    mess = seed + adrs\n",
    "    return sha256(mess).digest()"
   ]
  },
  {
   "cell_type": "code",
   "execution_count": 14,
   "id": "05426e6a",
   "metadata": {},
   "outputs": [],
   "source": [
    "def PRF_msg(sk_seed, sk_prf, opt_rand, m):\n",
    "    hmac_value = hmac.new(sk_prf, opt_rand + m , sha256)\n",
    "    return hmac_value.digest()"
   ]
  },
  {
   "cell_type": "markdown",
   "id": "726bc13d",
   "metadata": {},
   "source": [
    "## WOTS+"
   ]
  },
  {
   "attachments": {
    "image-2.png": {
     "image/png": "[encoded data removed]"
    },
    "image-3.png": {
     "image/png": "[encoded data removed]"
    },
    "image.png": {
     "image/png": "[encoded data removed]"
    }
   },
   "cell_type": "markdown",
   "id": "d38473b8",
   "metadata": {},
   "source": [
    "Parameters:\n",
    "* n - the security parameter - it is the message length as well as the length of a private key, public key, or signature element in bytes\n",
    "* w - the Winternitz parameter; it is an element of the set {4, 16, 256}\n",
    "\n",
    "These parameters are used to compute values _len_, _len1_ and _len2_:\n",
    "\n",
    "![image.png](attachment:image.png)\n",
    "\n",
    "![image-2.png](attachment:image-2.png)\n",
    "\n",
    "![image-3.png](attachment:image-3.png)"
   ]
  },
  {
   "cell_type": "code",
   "execution_count": 15,
   "id": "553203bf",
   "metadata": {},
   "outputs": [
    {
     "name": "stdout",
     "output_type": "stream",
     "text": [
      "8 2 10\n"
     ]
    }
   ],
   "source": [
    "n = 32\n",
    "w = 16\n",
    "h = 64\n",
    "len1 = ceil(n/log2(w))\n",
    "len2 = floor(log2(len1*(w-1))/log2(w)) + 1\n",
    "length = len1 + len2\n",
    "print(len1, len2, length)"
   ]
  },
  {
   "cell_type": "markdown",
   "id": "8e55f17a",
   "metadata": {},
   "source": [
    "### Chaining Function"
   ]
  },
  {
   "cell_type": "code",
   "execution_count": 16,
   "id": "8e1ff289",
   "metadata": {},
   "outputs": [],
   "source": [
    "def chain(X, i, s, pk_seed, adrs):\n",
    "    if s == 0:\n",
    "        return X, adrs\n",
    "    if i+s > w-1:\n",
    "        return None, adrs\n",
    "    tmp, adrs = chain(X, i, s-1, pk_seed, adrs)\n",
    "    adrs[-8:] = num_to_bytes(i + s - 1) # hash address\n",
    "    tmp = F(pk_seed, adrs, tmp)\n",
    "    return tmp, adrs"
   ]
  },
  {
   "cell_type": "markdown",
   "id": "e6298c91",
   "metadata": {},
   "source": [
    "### Private key generation"
   ]
  },
  {
   "cell_type": "code",
   "execution_count": 17,
   "id": "b2cf25ec",
   "metadata": {},
   "outputs": [],
   "source": [
    "def wots_SKgen(sk_seed, adrs, length):\n",
    "    sk = bytearray()\n",
    "    for i in range(length):\n",
    "        adrs[16:24] = num_to_bytes(i) # chain address\n",
    "        sk += PRF(sk_seed, adrs)\n",
    "    return sk, adrs"
   ]
  },
  {
   "cell_type": "markdown",
   "id": "d6ca8102",
   "metadata": {},
   "source": [
    "### Public key generation"
   ]
  },
  {
   "cell_type": "code",
   "execution_count": 18,
   "id": "2a57ac23",
   "metadata": {},
   "outputs": [],
   "source": [
    "def wots_PKgen(sk_seed, pk_seed, adrs):\n",
    "    wotspkadrs = deepcopy(adrs)\n",
    "    tmp = bytearray()\n",
    "    for i in range(length):\n",
    "        adrs[16:24] = num_to_bytes(i) # chain address\n",
    "        sk = PRF(sk_seed, adrs)\n",
    "        chain_res, adrs = chain(bytearray(sk[i]), 0, w-1, pk_seed, adrs)\n",
    "        tmp += chain_res\n",
    "    wotspkadrs[:8] = num_to_bytes(1) # set type to WOTS_PK\n",
    "    wotspkadrs[8:16] = deepcopy(adrs[8:16]) # key pair\n",
    "    pk = sha256(pk_seed + wotspkadrs + tmp).digest()\n",
    "    return pk, adrs"
   ]
  },
  {
   "cell_type": "markdown",
   "id": "169aac49",
   "metadata": {},
   "source": [
    "### Signature Generation"
   ]
  },
  {
   "cell_type": "code",
   "execution_count": 19,
   "id": "1704f26c",
   "metadata": {},
   "outputs": [],
   "source": [
    "def wots_sign(m, sk_seed, pk_seed, adrs, len1):\n",
    "    csum = 0\n",
    "    \n",
    "    # convert message to base w\n",
    "    msg = base_w(m, w, len1)\n",
    "    \n",
    "    # compute checksum\n",
    "    for i in range(len1):\n",
    "        csum += w - 1 - msg[i]\n",
    "    \n",
    "    # convert csum to base w\n",
    "    csum = rot_left(csum, (8 - ((len2 * int(log2(w)) % 8))))\n",
    "    msg = msg + base_w(num_to_bytes(csum), w, len2)\n",
    "    sig = bytearray()\n",
    "    for i in range(length):\n",
    "        adrs[16:24] = num_to_bytes(i) # chain\n",
    "        sk = PRF(sk_seed, adrs)\n",
    "        tmp, adrs = chain(sk, 0, msg[i], pk_seed, adrs)\n",
    "        sig = sig + tmp\n",
    "    return sig, adrs"
   ]
  },
  {
   "cell_type": "markdown",
   "id": "1b0b190d",
   "metadata": {},
   "source": [
    "### Compute Public Key from Signature"
   ]
  },
  {
   "cell_type": "code",
   "execution_count": 20,
   "id": "282705ec",
   "metadata": {},
   "outputs": [],
   "source": [
    "def wots_pk_from_sig(sig, m, pk_seed, adrs):\n",
    "    csum = 0\n",
    "    wotspkadrs = deepcopy(adrs)\n",
    "    \n",
    "    # convert message to base w\n",
    "    msg = base_w(m, w, len1)\n",
    "    \n",
    "    # compute checksum\n",
    "    for i in range(len1):\n",
    "        csum += w - 1 - msg[i]\n",
    "        \n",
    "    # convert csum to base w\n",
    "    csum = rot_left(csum, ( 8 - ( ( len2 * int(log2(w)) ) % 8 )))\n",
    "    msg += base_w(num_to_bytes(csum), w, len2)\n",
    "    tmp = bytearray()\n",
    "    for i in range(length):\n",
    "        adrs[16:24] = num_to_bytes(i) # chain\n",
    "        t, adrs = chain(bytearray(sig[i]), msg[i], w - 1 - msg[i], pk_seed, adrs);\n",
    "        tmp += t\n",
    "    wotspkadrs[:8] = num_to_bytes(1)\n",
    "    wotspkadrs[8:16] = deepcopy(adrs[8:16])\n",
    "    pk_sig = sha256(pk_seed + wotspkadrs + tmp).digest()\n",
    "    return pk_sig, adrs\n"
   ]
  },
  {
   "cell_type": "code",
   "execution_count": 21,
   "id": "483ee167",
   "metadata": {
    "scrolled": true
   },
   "outputs": [
    {
     "name": "stdout",
     "output_type": "stream",
     "text": [
      "32\n"
     ]
    },
    {
     "data": {
      "text/plain": [
       "b\"\\xeczS\\xd1'\\xab\\x03\\x9b\\xcf\\xae\\x96\\xc5O\\xbb\\xd8%N\\xe5\\x92\\x87k3e\\x9cY\\x15\\xfe\\x1d\\xeaI\\xady\""
      ]
     },
     "execution_count": 21,
     "metadata": {},
     "output_type": "execute_result"
    }
   ],
   "source": [
    "# generate keys\n",
    "SK_SEED = bytearray(os.urandom(n))\n",
    "PK_SEED = bytearray(os.urandom(n))\n",
    "ADRS = bytearray(os.urandom(32))\n",
    "M = bytearray(b\"Ala ma kotka a kotek ma tez Ale!\")\n",
    "print(len(M))\n",
    "\n",
    "wots_sk, adrs = wots_SKgen(SK_SEED, ADRS, length)\n",
    "wots_pk, adrs = wots_PKgen(SK_SEED, PK_SEED, adrs)\n",
    "\n",
    "# generate a signature\n",
    "wots_sig, adrs = wots_sign(M, wots_sk, wots_pk, adrs, len1)\n",
    "\n",
    "# compare public keys\n",
    "wots_pk_from_sig(wots_sig, M, PK_SEED, adrs)[0]"
   ]
  },
  {
   "cell_type": "code",
   "execution_count": 22,
   "id": "bc0f9569",
   "metadata": {},
   "outputs": [
    {
     "data": {
      "text/plain": [
       "b'\\xfbaT\\x03\\xb4\\x8f\\xa4\\xf4\\xc0\\xa8w\\xa4\\x81M\\x1c\\x92\\xf6\\x9f\\x1a\\x99!\\xa6\\xb8\\xa4sa\\xa0#\"\\x97\\x9a\\x02'"
      ]
     },
     "execution_count": 22,
     "metadata": {},
     "output_type": "execute_result"
    }
   ],
   "source": [
    "wots_pk"
   ]
  },
  {
   "cell_type": "code",
   "execution_count": null,
   "id": "95660848",
   "metadata": {},
   "outputs": [],
   "source": []
  }
 ],
 "metadata": {
  "kernelspec": {
   "display_name": "Python 3 (ipykernel)",
   "language": "python",
   "name": "python3"
  },
  "language_info": {
   "codemirror_mode": {
    "name": "ipython",
    "version": 3
   },
   "file_extension": ".py",
   "mimetype": "text/x-python",
   "name": "python",
   "nbconvert_exporter": "python",
   "pygments_lexer": "ipython3",
   "version": "3.9.10"
  }
 },
 "nbformat": 4,
 "nbformat_minor": 5
}
