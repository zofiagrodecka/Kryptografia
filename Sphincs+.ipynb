{
 "cells": [
  {
   "cell_type": "markdown",
   "id": "0ebd8531",
   "metadata": {},
   "source": [
    "# Sphincs+ algorithm"
   ]
  },
  {
   "cell_type": "code",
   "execution_count": 1,
   "id": "acfe8d79",
   "metadata": {},
   "outputs": [],
   "source": [
    "from math import ceil, floor, log2\n",
    "from copy import deepcopy\n",
    "from hashlib import sha256\n",
    "import hmac\n",
    "from cryptography.hazmat.primitives import hashes\n",
    "from cryptography.hazmat.primitives.asymmetric import padding"
   ]
  },
  {
   "cell_type": "markdown",
   "id": "1ed52d83",
   "metadata": {},
   "source": [
    "## Useful functions"
   ]
  },
  {
   "cell_type": "code",
   "execution_count": 2,
   "id": "77a7ab08",
   "metadata": {},
   "outputs": [],
   "source": [
    "def rot_left(n, d):\n",
    "    return (n << d)|(n >> (32 - d)) & 0xFFFFFFFF\n",
    "\n",
    "def rot_right(n, d):\n",
    "    return (n >> d)|(n << (32 - d)) & 0xFFFFFFFF"
   ]
  },
  {
   "cell_type": "markdown",
   "id": "f73aec7d",
   "metadata": {},
   "source": [
    "A byte string can be considered as a string of base w numbers, i.e. integers in the set {0, . . . , w−\n",
    "1}. The correspondence is defined by the function base_w(X, w, out_len) as follows. Let X be\n",
    "a len_X- byte string, and w is an element of the set {4, 16, 256}, then base_w(X, w, out_len)\n",
    "outputs an array of out_len integers between 0 and w − 1 (Figure 1). The length out_len is\n",
    "REQUIRED to be less than or equal to 8 ∗ len_X/ log(w)."
   ]
  },
  {
   "cell_type": "code",
   "execution_count": 3,
   "id": "f2368c5e",
   "metadata": {},
   "outputs": [
    {
     "data": {
      "text/plain": [
       "[1, 2, 3, 4]"
      ]
     },
     "execution_count": 3,
     "metadata": {},
     "output_type": "execute_result"
    }
   ],
   "source": [
    "def base_w(X, w, out_len):\n",
    "    i = 0\n",
    "    total = 0\n",
    "    bits = 0\n",
    "    basew = []\n",
    "    for consumed in range(out_len):\n",
    "        if bits == 0:\n",
    "            total = X[i]\n",
    "            i += 1\n",
    "            bits += 8\n",
    "        bits -= int(log2(w))\n",
    "        basew.append(rot_right(total, bits) & (w-1))\n",
    "    return basew\n",
    "\n",
    "base_w(b'\\x12\\x34', 16, 4)"
   ]
  },
  {
   "cell_type": "code",
   "execution_count": 4,
   "id": "3bc06f64",
   "metadata": {},
   "outputs": [],
   "source": [
    "def xor(a, b):\n",
    "    return bytearray([a[i] ^ b[i] for i in range(len(a))])"
   ]
  },
  {
   "cell_type": "code",
   "execution_count": 5,
   "id": "187fa896",
   "metadata": {},
   "outputs": [],
   "source": [
    "def num_to_bytes(num, length=8):\n",
    "    return int.to_bytes(num, length=length, byteorder='big')"
   ]
  },
  {
   "cell_type": "markdown",
   "id": "ee5b7b1d",
   "metadata": {},
   "source": [
    "## Hash Functions"
   ]
  },
  {
   "cell_type": "markdown",
   "id": "f58c58fb",
   "metadata": {},
   "source": [
    "<font color='red'>TODO: Shorter Outputs. If a parameter set requires an output length n < 32-bytes for F, H, PRF,and PRFmsg we take the first n bytes of the output and discard the remaining.</font>\n"
   ]
  },
  {
   "cell_type": "code",
   "execution_count": 6,
   "id": "8df055f9",
   "metadata": {},
   "outputs": [],
   "source": [
    "def MGF1(m, size, h=sha256):\n",
    "    hlen = 32\n",
    "    output = bytearray()\n",
    "    for i in range(0, ceil(size/hlen)):\n",
    "        ibytes = i.to_bytes(4, 'big')\n",
    "        tmp = h(m + ibytes).digest()\n",
    "        output = output + tmp\n",
    "    return output[: size + 1]"
   ]
  },
  {
   "cell_type": "code",
   "execution_count": 7,
   "id": "37bec7bf",
   "metadata": {},
   "outputs": [],
   "source": [
    "def generate_mask(m, pk_seed, adrs, mask_len):\n",
    "    m_arr = bytearray(m)\n",
    "    mask = MGF1(pk_seed + adrs, mask_len)\n",
    "    return xor(m_arr,mask)"
   ]
  },
  {
   "cell_type": "code",
   "execution_count": 8,
   "id": "78f8ed90",
   "metadata": {
    "scrolled": true
   },
   "outputs": [
    {
     "data": {
      "text/plain": [
       "bytearray(b'wz\\xdc\\xba\\x0e]\\xfb\\xce\\xda\\x0c\\xe0R\\xd4\\xf26\\x8d\\x0e\\x82\\xce<\\x9f|\\xf7h\\xf8.\\n\\xd8t\\xd2\\xc5H')"
      ]
     },
     "execution_count": 8,
     "metadata": {},
     "output_type": "execute_result"
    }
   ],
   "source": [
    "import os\n",
    "arr = bytearray([0, 0, 1, 0, 0, 0, 0, 0])\n",
    "pk_seed = os.urandom(32)\n",
    "mask_len = 32\n",
    "test_m = ('t'*32).encode('utf-8')\n",
    "\n",
    "generate_mask(test_m, pk_seed, arr, mask_len)"
   ]
  },
  {
   "cell_type": "code",
   "execution_count": 9,
   "id": "7c2609e3",
   "metadata": {},
   "outputs": [],
   "source": [
    "def F(pk_seed, adrs, m1):\n",
    "    mask = generate_mask(m1, pk_seed, adrs, len(m1))\n",
    "    mess = pk_seed + adrs + mask\n",
    "    return sha256(mess).digest()"
   ]
  },
  {
   "cell_type": "code",
   "execution_count": 10,
   "id": "493a1444",
   "metadata": {},
   "outputs": [
    {
     "data": {
      "text/plain": [
       "b'\\x9b\\xeaH\\xcf0^\\xda9\\xc0\\xafD`\\xef\\xf6\\xb3\\x9d\\xab\\xdfk\\xf3X0\\x91\\xca\\x1c\\xe4^\\xf5\\xdf}\\xd0\\x96'"
      ]
     },
     "execution_count": 10,
     "metadata": {},
     "output_type": "execute_result"
    }
   ],
   "source": [
    "F(pk_seed, arr, test_m)"
   ]
  },
  {
   "cell_type": "code",
   "execution_count": 11,
   "id": "b8875cdc",
   "metadata": {},
   "outputs": [
    {
     "data": {
      "text/plain": [
       "b'\\xd2\\x89\\x82\\xd3\\xed\\xfcRqS\\x93\\xbe56\\xf5E\\x97;]\\xd4C\\x9bl\\xa5e>\\xa2\\x95\\xbb\\xe0X\\xc2\\xcf'"
      ]
     },
     "execution_count": 11,
     "metadata": {},
     "output_type": "execute_result"
    }
   ],
   "source": [
    "def H(pk_seed, adrs, m1, m2):\n",
    "    mask1 = generate_mask(m1, pk_seed, adrs, len(m1))\n",
    "    mask2 = generate_mask(m2, pk_seed, adrs, len(m2))\n",
    "    mess = pk_seed + adrs + mask1 + mask2\n",
    "    return sha256(mess).digest()\n",
    "\n",
    "H(pk_seed, arr, test_m, test_m[:-1] + b'u')"
   ]
  },
  {
   "cell_type": "code",
   "execution_count": 12,
   "id": "e55826a6",
   "metadata": {},
   "outputs": [],
   "source": [
    "def H_msg(r, pk_seed, pk_root, m):\n",
    "    mess = r + pk_seed + pk_root + m\n",
    "    sha = sha256(mess).digest()\n",
    "    return MGF1(sha, len(m))"
   ]
  },
  {
   "cell_type": "code",
   "execution_count": 13,
   "id": "64125cb2",
   "metadata": {},
   "outputs": [],
   "source": [
    "def PRF(seed, adrs):\n",
    "    mess = seed + adrs\n",
    "    return sha256(mess).digest()"
   ]
  },
  {
   "cell_type": "code",
   "execution_count": 14,
   "id": "05426e6a",
   "metadata": {},
   "outputs": [],
   "source": [
    "def PRF_msg(sk_seed, sk_prf, opt_rand, m):\n",
    "    hmac_value = hmac.new(sk_prf, opt_rand + m , sha256)\n",
    "    return hmac_value.digest()"
   ]
  },
  {
   "cell_type": "markdown",
   "id": "726bc13d",
   "metadata": {},
   "source": [
    "## WOTS+"
   ]
  },
  {
   "attachments": {
    "image-2.png": {
     "image/png": "[encoded data removed]"
    },
    "image-3.png": {
     "image/png": "[encoded data removed]"
    },
    "image.png": {
     "image/png": "[encoded data removed]"
    }
   },
   "cell_type": "markdown",
   "id": "d38473b8",
   "metadata": {},
   "source": [
    "Parameters:\n",
    "* n - the security parameter - it is the message length as well as the length of a private key, public key, or signature element in bytes\n",
    "* w - the Winternitz parameter; it is an element of the set {4, 16, 256}\n",
    "\n",
    "These parameters are used to compute values _len_, _len1_ and _len2_:\n",
    "\n",
    "![image.png](attachment:image.png)\n",
    "\n",
    "![image-2.png](attachment:image-2.png)\n",
    "\n",
    "![image-3.png](attachment:image-3.png)"
   ]
  },
  {
   "cell_type": "code",
   "execution_count": 15,
   "id": "553203bf",
   "metadata": {},
   "outputs": [
    {
     "name": "stdout",
     "output_type": "stream",
     "text": [
      "8 2 10\n"
     ]
    }
   ],
   "source": [
    "n = 32\n",
    "w = 16\n",
    "h = 64\n",
    "len1 = ceil(n/log2(w))\n",
    "len2 = floor(log2(len1*(w-1))/log2(w)) + 1\n",
    "length = len1 + len2\n",
    "print(len1, len2, length)"
   ]
  },
  {
   "cell_type": "markdown",
   "id": "8e55f17a",
   "metadata": {},
   "source": [
    "### Chaining Function"
   ]
  },
  {
   "cell_type": "code",
   "execution_count": 16,
   "id": "8e1ff289",
   "metadata": {},
   "outputs": [],
   "source": [
    "def chain(X, i, s, pk_seed, adrs):\n",
    "    if s == 0:\n",
    "        return X, adrs\n",
    "    if i+s > w-1:\n",
    "        return None, adrs\n",
    "    tmp, adrs = chain(X, i, s-1, pk_seed, adrs)\n",
    "    adrs[-8:] = num_to_bytes(i + s - 1) # hash address\n",
    "    tmp = F(pk_seed, adrs, tmp)\n",
    "    return tmp, adrs"
   ]
  },
  {
   "cell_type": "markdown",
   "id": "e6298c91",
   "metadata": {},
   "source": [
    "### Private key generation"
   ]
  },
  {
   "cell_type": "code",
   "execution_count": 17,
   "id": "b2cf25ec",
   "metadata": {},
   "outputs": [],
   "source": [
    "def wots_SKgen(sk_seed, adrs, length):\n",
    "    sk = bytearray()\n",
    "    for i in range(length):\n",
    "        adrs[16:24] = num_to_bytes(i) # chain address\n",
    "        sk += PRF(sk_seed, adrs)\n",
    "    return sk, adrs"
   ]
  },
  {
   "cell_type": "markdown",
   "id": "d6ca8102",
   "metadata": {},
   "source": [
    "### Public key generation"
   ]
  },
  {
   "cell_type": "code",
   "execution_count": 18,
   "id": "2a57ac23",
   "metadata": {},
   "outputs": [],
   "source": [
    "def wots_PKgen(sk_seed, pk_seed, adrs):\n",
    "    wotspkadrs = deepcopy(adrs)\n",
    "    tmp = bytearray()\n",
    "    for i in range(length):\n",
    "        adrs[16:24] = num_to_bytes(i) # chain address\n",
    "        sk = PRF(sk_seed, adrs)\n",
    "        chain_res, adrs = chain(bytearray(sk[i]), 0, w-1, pk_seed, adrs)\n",
    "        tmp += chain_res\n",
    "    wotspkadrs[:8] = num_to_bytes(1) # set type to WOTS_PK\n",
    "    wotspkadrs[8:16] = deepcopy(adrs[8:16]) # key pair\n",
    "    pk = sha256(pk_seed + wotspkadrs + tmp).digest()\n",
    "    return pk, adrs"
   ]
  },
  {
   "cell_type": "markdown",
   "id": "169aac49",
   "metadata": {},
   "source": [
    "### Signature Generation"
   ]
  },
  {
   "cell_type": "code",
   "execution_count": 19,
   "id": "1704f26c",
   "metadata": {},
   "outputs": [],
   "source": [
    "def wots_sign(m, sk_seed, pk_seed, adrs, len1):\n",
    "    csum = 0\n",
    "    \n",
    "    # convert message to base w\n",
    "    msg = base_w(m, w, len1)\n",
    "    \n",
    "    # compute checksum\n",
    "    for i in range(len1):\n",
    "        csum += w - 1 - msg[i]\n",
    "    \n",
    "    # convert csum to base w\n",
    "    csum = rot_left(csum, (8 - ((len2 * int(log2(w)) % 8))))\n",
    "    msg = msg + base_w(num_to_bytes(csum), w, len2)\n",
    "    sig = bytearray()\n",
    "    for i in range(length):\n",
    "        adrs[16:24] = num_to_bytes(i) # chain\n",
    "        sk = PRF(sk_seed, adrs)\n",
    "        tmp, adrs = chain(sk, 0, msg[i], pk_seed, adrs)\n",
    "        sig = sig + tmp\n",
    "    return sig, adrs"
   ]
  },
  {
   "cell_type": "markdown",
   "id": "1b0b190d",
   "metadata": {},
   "source": [
    "### Compute Public Key from Signature"
   ]
  },
  {
   "cell_type": "code",
   "execution_count": 20,
   "id": "282705ec",
   "metadata": {},
   "outputs": [],
   "source": [
    "def wots_pk_from_sig(sig, m, pk_seed, adrs):\n",
    "    csum = 0\n",
    "    wotspkadrs = deepcopy(adrs)\n",
    "    \n",
    "    # convert message to base w\n",
    "    msg = base_w(m, w, len1)\n",
    "    \n",
    "    # compute checksum\n",
    "    for i in range(len1):\n",
    "        csum += w - 1 - msg[i]\n",
    "        \n",
    "    # convert csum to base w\n",
    "    csum = rot_left(csum, ( 8 - ( ( len2 * int(log2(w)) ) % 8 )))\n",
    "    msg += base_w(num_to_bytes(csum), w, len2)\n",
    "    tmp = bytearray()\n",
    "    for i in range(length):\n",
    "        adrs[16:24] = num_to_bytes(i) # chain\n",
    "        t, adrs = chain(bytearray(sig[i]), msg[i], w - 1 - msg[i], pk_seed, adrs);\n",
    "        tmp += t\n",
    "    wotspkadrs[:8] = num_to_bytes(1)\n",
    "    wotspkadrs[8:16] = deepcopy(adrs[8:16])\n",
    "    pk_sig = sha256(pk_seed + wotspkadrs + tmp).digest()\n",
    "    return pk_sig, adrs\n"
   ]
  },
  {
   "cell_type": "code",
   "execution_count": 21,
   "id": "483ee167",
   "metadata": {
    "scrolled": true
   },
   "outputs": [
    {
     "name": "stdout",
     "output_type": "stream",
     "text": [
      "32\n"
     ]
    },
    {
     "data": {
      "text/plain": [
       "b\"\\xeczS\\xd1'\\xab\\x03\\x9b\\xcf\\xae\\x96\\xc5O\\xbb\\xd8%N\\xe5\\x92\\x87k3e\\x9cY\\x15\\xfe\\x1d\\xeaI\\xady\""
      ]
     },
     "execution_count": 21,
     "metadata": {},
     "output_type": "execute_result"
    }
   ],
   "source": [
    "# generate keys\n",
    "SK_SEED = bytearray(os.urandom(n))\n",
    "PK_SEED = bytearray(os.urandom(n))\n",
    "ADRS = bytearray(os.urandom(32))\n",
    "M = bytearray(b\"Ala ma kotka a kotek ma tez Ale!\")\n",
    "print(len(M))\n",
    "\n",
    "wots_sk, adrs = wots_SKgen(SK_SEED, ADRS, length)\n",
    "wots_pk, adrs = wots_PKgen(SK_SEED, PK_SEED, adrs)\n",
    "\n",
    "# generate a signature\n",
    "wots_sig, adrs = wots_sign(M, wots_sk, wots_pk, adrs, len1)\n",
    "\n",
    "# compare public keys\n",
    "wots_pk_from_sig(wots_sig, M, PK_SEED, adrs)[0]"
   ]
  },
  {
   "cell_type": "code",
   "execution_count": 24,
   "id": "5cca27f0",
   "metadata": {},
   "outputs": [
    {
     "data": {
      "text/plain": [
       "bytearray(b'\\x94\\x80UKJ\\xf7\\xab\\xb1\\x9b\\x8a\\xabN\\xe1`\\xb6\\xe1\\x88\\xe4\\x92\\xe7\\x19n\\xd7W\\x01\\x04G\\x02\\xfbY\\xd5\\x81\\x8a3\\x8c\\xf5\\r\\x1c,e\\xc4\\xf3~\\x01\\x10\\xa0\\xd7\\xa8c<\\xa1\\xef0\\x13o eBw\\xba\\xa4A\\x7fQ\\x02\\xfc\\xb3\\xa0\\x0bE\\xbb\\x7f_E]C5b\\xc4Sd\\xac5X\\x8d\\xbd\\xf4\\xd2\\xf2\\xf8F\\x17\\xe1`\\x81\\x92\\xb5\\xeb\\x14G\\xadR\\xfe\\x8bK\\x8f\\xe8\\x14\\xa4\\x16,\\xe5\\x9eD%\\xb6\\x13\\xfdA\\x03\\xe4\\xf3\\xf0\"Zm\\xf2\\x17\\x04\\x14\\x04\\xc4\\xc5!\\x97\\x7f2\\x073PaSD^\\xb4i4\\xe0tAS\\x14\\xeaTaQ\\xcb3)\\xf6\\x18\\xfe\\xac\\xdf\\xab\\xe3wJ*\\x17\\x11\\xd6\\x06\\x13$\\xf0h\\x11\\xb3\\xa8sa\\x0b8\\xef\\x06\\xf2\\xeat\\x00\\x1ax\\x9b\\x02|\\x17]\\xa7WBo\\xa5\\x9f%\\x9fu\\xc7!j\\x8e\\xf7j\\rT\\xf1\\xc1\\\\s\\xbeg7\\xd3\\xba\\xa8\\x19v\\n]\\x1d\\xbc\\xff\\x86\\xc4\\xed\\xe1\\xaea\\xe5\\x81\\x9c:\\xbdy_]$\\xd0i\\xdf\\xc68\\x984\\x8f\\xfd\\xbc\\'\\xa4&\\xe2\\x85\\xb6\\x1f\\xfa%\\x93\\x7ffb\\xb0\\x1b\\xcfo\\x9a\\xe3\\xec\\xc8\\xb8\\x07F$\\x80\\x0e\\\\\\xacz\\x8eb\\xfd\\xad\\x80\\x85|\\xba\\r\\xa8\\x87\\x16\\xad\\xbfz\\x1d\\xe3\\x1e\\xf7~\\xd6I\\xb3?\\xa4A\\x0c\\x18NK#b\\xda\\xbc')"
      ]
     },
     "execution_count": 24,
     "metadata": {},
     "output_type": "execute_result"
    }
   ],
   "source": [
    "wots_sig"
   ]
  },
  {
   "cell_type": "code",
   "execution_count": 22,
   "id": "bc0f9569",
   "metadata": {},
   "outputs": [
    {
     "data": {
      "text/plain": [
       "b'\\xfbaT\\x03\\xb4\\x8f\\xa4\\xf4\\xc0\\xa8w\\xa4\\x81M\\x1c\\x92\\xf6\\x9f\\x1a\\x99!\\xa6\\xb8\\xa4sa\\xa0#\"\\x97\\x9a\\x02'"
      ]
     },
     "execution_count": 22,
     "metadata": {},
     "output_type": "execute_result"
    }
   ],
   "source": [
    "wots_pk"
   ]
  },
  {
   "cell_type": "markdown",
   "id": "abeb30b6",
   "metadata": {},
   "source": [
    "## XMSS"
   ]
  },
  {
   "cell_type": "markdown",
   "id": "fd4c8391",
   "metadata": {},
   "source": [
    "Parameters:\n",
    "* h' - the height (number of levels - 1) of the tree\n",
    "* n - the length in bytes of messages as well as of each node\n",
    "* w - the Winternitz parameter as defined for WOTS+"
   ]
  },
  {
   "cell_type": "code",
   "execution_count": 30,
   "id": "33bd44a5",
   "metadata": {},
   "outputs": [],
   "source": [
    "def node_height(node):\n",
    "    pass"
   ]
  },
  {
   "cell_type": "markdown",
   "id": "c50ae632",
   "metadata": {},
   "source": [
    "### Treehash algorithm"
   ]
  },
  {
   "cell_type": "markdown",
   "id": "fe324f26",
   "metadata": {},
   "source": [
    "<font color='red'>It is REQUIRED that s % 2z = 0, i.e. that the leaf at index s is a leftmost leaf of a sub-tree of height z. Otherwise the algorithm fails as it would compute non-existent nodes"
   ]
  },
  {
   "cell_type": "code",
   "execution_count": 51,
   "id": "afc6ad07",
   "metadata": {},
   "outputs": [],
   "source": [
    "def treehash(sk_seed, s, z, pk_seed, adrs, stack):\n",
    "    if s % rot_left(1, z) != 0:\n",
    "        return -1\n",
    "        \n",
    "    for i in range(pow(2,z)):\n",
    "        adrs[:8] = num_to_bytes(0) # wots hash\n",
    "        adrs[8:16] = num_to_bytes(s+i) # key pair\n",
    "        node, adrs = wots_PKgen(sk_seed, pk_seed, adrs)\n",
    "        adrs[:8] = num_to_bytes(2) # tree type\n",
    "        adrs[16:24] = num_to_bytes(1) # tree height\n",
    "        adrs[24:] = num_to_bytes(s+i) # tree index\n",
    "        while node_height(stack[0]) == node_height(node):\n",
    "            adrs[24:] = num_to_bytes((int.from_bytes(adrs[16:24], 'big') - 1 // 2))\n",
    "            node = H(pk_seed, adrs, stack.pop() + node)\n",
    "            adrs[16:24] = num_to_bytes((int.from_bytes(adrs[16:24], 'big') + 1))\n",
    "        stack.append(node)\n",
    "    return stack.pop(), adrs"
   ]
  },
  {
   "cell_type": "markdown",
   "id": "9d59ee91",
   "metadata": {},
   "source": [
    "<font color='red'>CO TO JEST STACK I GDZIE GO ZADEKLAROWAC?"
   ]
  },
  {
   "cell_type": "markdown",
   "id": "1617b094",
   "metadata": {},
   "source": [
    "### XMSS Public Key Generation"
   ]
  },
  {
   "cell_type": "code",
   "execution_count": 32,
   "id": "17e68c35",
   "metadata": {},
   "outputs": [],
   "source": [
    "def xmss_PKgen(sk_seed, pk_seed, adrs):\n",
    "    pk, adrs = treehash(sk_seed, 0, h_prim, pk_seed, adrs)\n",
    "    return pk, adrs"
   ]
  },
  {
   "cell_type": "markdown",
   "id": "da190c1e",
   "metadata": {},
   "source": [
    "### XMSS Signature"
   ]
  },
  {
   "cell_type": "code",
   "execution_count": 53,
   "id": "a0c3e496",
   "metadata": {},
   "outputs": [],
   "source": [
    "def  xmss_sign(m, sk_seed, idx, pk_seed, adrs):\n",
    "    # build authentication path\n",
    "    auth = bytearray()\n",
    "    for j in range(h_prim):\n",
    "        k = floor(idx/pow(2,j)) ^ 1\n",
    "        auth_j, adrs = treehash(sk_seed, k*pow(2,j), j, pk_seed, adrs)\n",
    "        auth += auth_j\n",
    "    adrs[:8] = num_to_bytes(0)\n",
    "    adrs[8:16] = num_to_bytes(idx) # key pair\n",
    "    sig, adrs = wots_sign(m, sk_seed, pk_seed, adrs)\n",
    "    sig_xmss = sig + auth\n",
    "    return sig_xmss, adrs"
   ]
  },
  {
   "cell_type": "markdown",
   "id": "bb4779ad",
   "metadata": {},
   "source": [
    "### XMSS Compute Public Key from Signature"
   ]
  },
  {
   "cell_type": "code",
   "execution_count": 54,
   "id": "aacd4e8c",
   "metadata": {},
   "outputs": [],
   "source": [
    "def xmss_pk_from_sig(idx, sig_xmss, m, pk_seed, adrs):\n",
    "    # compute wots+ pk from wots+ sig\n",
    "    adrs[:8] = num_to_bytes(0)\n",
    "    adrs[8:16] = num_to_bytes(idx)\n",
    "    sig = sig_xmss[:len*n]\n",
    "    auth = sig_xmss[len*n:]\n",
    "    node = []\n",
    "    n, adrs = wots_pk_from_sig(sig, m, pk_seed, adrs)\n",
    "    node[0] = n\n",
    "    \n",
    "    # compute root from wots+ pk and auth\n",
    "    adrs[:8] = num_to_bytes(2)\n",
    "    adrs[-8:] = num_to_bytes(idx)\n",
    "    for k in range(h_prim):\n",
    "        adrs[16:24] = num_to_bytes(k+1)\n",
    "        if floor(idx/pow(2,k)) % 2 == 0:\n",
    "            adrs[-8:] = num_to_bytes(int.from_bytes(adrs[-8:], 'big') // 2)\n",
    "            node[1] = H(pk_seed, adrs, auth[k] + node[0])\n",
    "        else:\n",
    "            adrs[-8:] = num_to_bytes((int.from_bytes(adrs[-8:], 'big') - 1) // 2)\n",
    "            node[1] = H(pk_seed, adrs, auth[k] + node[0])\n",
    "        node[0] = node[1]\n",
    "    return node[0], adrs"
   ]
  },
  {
   "cell_type": "code",
   "execution_count": null,
   "id": "9f81b7af",
   "metadata": {},
   "outputs": [],
   "source": []
  },
  {
   "cell_type": "markdown",
   "id": "63d99b92",
   "metadata": {},
   "source": [
    "## Hypertree"
   ]
  },
  {
   "cell_type": "markdown",
   "id": "38107557",
   "metadata": {},
   "source": [
    "Parameters:\n",
    "* h - hypertree height\n",
    "* d - number of tree layers"
   ]
  },
  {
   "cell_type": "markdown",
   "id": "813d51a6",
   "metadata": {},
   "source": [
    "### HT Key Generation"
   ]
  },
  {
   "cell_type": "code",
   "execution_count": 38,
   "id": "32dd0dbb",
   "metadata": {},
   "outputs": [],
   "source": [
    "def ht_pk_gen(sk_seed, pk_seed):\n",
    "    adrs = int_to_byte(0, length=32)\n",
    "    adrs[:8] = num_to_byte(d-1)\n",
    "    root, adrs = xmss_pk_gen(sk_seed, pk_seed, adrs)\n",
    "    return root, adrs"
   ]
  },
  {
   "cell_type": "markdown",
   "id": "6781d396",
   "metadata": {},
   "source": [
    "### HT signature"
   ]
  },
  {
   "cell_type": "code",
   "execution_count": 57,
   "id": "3b70ab46",
   "metadata": {},
   "outputs": [],
   "source": [
    "def ht_sign(m, sk_seed, pk_seed, idx_tree, idx_leaf):\n",
    "    # init\n",
    "    adrs = int_to_byte(0, length=32)\n",
    "    \n",
    "    # sign\n",
    "    adrs[:8] = num_to_byte(0)\n",
    "    adrs[8:] = idx_tree\n",
    "    sig_tmp, adrs = xmss_sign(m, sk_seed, idx_leaf, pk_seed, adrs)\n",
    "    sig_ht = bytearray()\n",
    "    sig_ht += sig_tmp\n",
    "    root, adrs = xmss_pk_from_sig(idx_leaf, sig_tmp, m, pk_seed, adrs)\n",
    "    for j in range(1, d):\n",
    "        idx_leaf = idx_tree[-(h/d):] # least significant bits of idx_tree\n",
    "        idx_tree = idx_tree[:(h-j * (h/d))] # most significant bits of idx_tree\n",
    "        adrs[:8] = num_to_int(j)\n",
    "        adrs[8:] = idx_tree\n",
    "        sig_tmp, adrs = xmss_sign(root, sk_seed, idx_leaf, pk_seed, adrs)\n",
    "        sig_ht += sig_tmp\n",
    "        if j < d - 1:\n",
    "            root, adrs = xmss_pk_from_sig(idx_leaf, sig_tmp, root, pk_seed, adrs)\n",
    "    return sig_ht, adrs\n",
    "    "
   ]
  },
  {
   "cell_type": "markdown",
   "id": "6ce9ff1b",
   "metadata": {},
   "source": [
    "### HT Signature Verification"
   ]
  },
  {
   "cell_type": "code",
   "execution_count": 47,
   "id": "79ef953a",
   "metadata": {},
   "outputs": [],
   "source": [
    "def ht_verify(m, sig_ht, pk_seed, idx_tree, idx_leaf, pk_ht):\n",
    "    # init\n",
    "    adrs = int_to_byte(0, length=32)\n",
    "    \n",
    "    # verify\n",
    "    sig_tmp = sig_ht[0] # first xmss_sig\n",
    "    adrs[:8] = num_to_bytes(0)\n",
    "    adrs[8:] = num_to_bytes(idx_tree)\n",
    "    node, adrs = xmss_pk_from_sig(idx_leaf, sig_tmp, m, pk_seed, adrs)\n",
    "    for j in range(1, d):\n",
    "        idx_leaf = idx[-(h//d):]  # least significant bits of idx\n",
    "        idx_tree = idx[:(h-j * h // d)] #  most significant bits of idx\n",
    "        sig_tmp, adrs = sig_ht[j]\n",
    "        adrs[:8] = num_to_bytes(j)\n",
    "        adrs[8:] = num_to_bytes(idx_tree)\n",
    "        node, adrs = xmss_pk_from_sig(idx_leaf, sig_tmp, node, pk_seed, adrs)\n",
    "    if node == pk_ht:\n",
    "        return True, adrs\n",
    "    return False, adrs"
   ]
  },
  {
   "cell_type": "markdown",
   "id": "39d1e5c2",
   "metadata": {},
   "source": [
    "## FORS: Forest Of Random Subsets"
   ]
  },
  {
   "cell_type": "markdown",
   "id": "4dbc0ab0",
   "metadata": {},
   "source": [
    "Parameters:\n",
    "* n - the security parameter; it is the length of a private key, public key, or signature element in bytes.\n",
    "* k - the number of private key sets, trees and indices computed from the input string.\n",
    "* t - the number of elements per private key set, number of leaves per hash tree and upper bound on the index values. The parameter t MUST be a power of 2. If t = 2a, then the trees have height a and the input string is split into bit strings of length a."
   ]
  },
  {
   "cell_type": "markdown",
   "id": "5a9edb21",
   "metadata": {},
   "source": [
    "### FORS Private Key"
   ]
  },
  {
   "cell_type": "code",
   "execution_count": 48,
   "id": "13200f26",
   "metadata": {},
   "outputs": [],
   "source": [
    "def fors_sk_gen(sk_seed, adrs, idx):\n",
    "    adrs[16:24] = num_to_bytes(0)\n",
    "    adrs[-8:] = num_to_bytes(idx)\n",
    "    sk = PRF(sk_seed, adrs)\n",
    "    return sk, adrs"
   ]
  },
  {
   "cell_type": "markdown",
   "id": "9b12d485",
   "metadata": {},
   "source": [
    "### FORS Tree Hash"
   ]
  },
  {
   "cell_type": "markdown",
   "id": "0f6f621b",
   "metadata": {},
   "source": [
    "<font color='red'>CO TO JEST STACK I GDZIE GO ZADEKLAROWAC?"
   ]
  },
  {
   "cell_type": "code",
   "execution_count": 55,
   "id": "36431e81",
   "metadata": {},
   "outputs": [],
   "source": [
    "def fors_treehash(sk_seed, s, z, pk_seed, adrs, stack):\n",
    "    if s % rot_left(1, z) != 0:\n",
    "        return -1\n",
    "    for i in range(pow(2,z)):\n",
    "        adrs[16:24] = num_to_bytes(0)\n",
    "        adrs[-8:] = num_to_bytes(s + i)\n",
    "        sk = PRF(sk_seed, adrs)\n",
    "        node = F(pk_seed, adrs, sk)\n",
    "        adrs[16:24] = num_to_bytes(1)\n",
    "        while node_height(stack[0]) == node_height(node):\n",
    "            adrs[-8:] = num_to_bytes((int.from_bytes(adrs[-8:], 'big') - 1) // 2)\n",
    "            node = H(pk_seed, adrs, stack.pop() + node)\n",
    "        stack.push(node)\n",
    "    return stack.pop(), adrs"
   ]
  },
  {
   "cell_type": "markdown",
   "id": "fabf3671",
   "metadata": {},
   "source": [
    "### FORS Public Key"
   ]
  },
  {
   "cell_type": "code",
   "execution_count": 50,
   "id": "bc56afd7",
   "metadata": {},
   "outputs": [],
   "source": [
    "def fors_pkgen(sk_seed, pk_seed, adrs):\n",
    "    forspkadrs = deepcopy(adrs)\n",
    "    root = []\n",
    "    for i in range(k):\n",
    "        r, adrs = fors_treehash(sk_seed, i*k, a, pk_seed, adrs)\n",
    "        root.append(r)\n",
    "    forspkadrs[:8] = num_to_int(4)\n",
    "    forspkadrs[8:16] = adrs[8:16]\n",
    "    pk = sha256(pk_seed + forspkadrs + root).digest() # ???\n",
    "    return pk, adrs"
   ]
  },
  {
   "cell_type": "markdown",
   "id": "162c09df",
   "metadata": {},
   "source": [
    "### FORS Signature Generation"
   ]
  },
  {
   "cell_type": "code",
   "execution_count": 56,
   "id": "02aa9608",
   "metadata": {},
   "outputs": [],
   "source": [
    "def fors_sign(m, sk_seed, pk_seed, adrs):\n",
    "    # compute signature elements\n",
    "    sig_fors = bytearray()\n",
    "    for i in range(k):\n",
    "        # get next index\n",
    "        idx = m[i*t-1 : (i+1)*t - 2] # ?? - bits i*t to (i+1)*t - 1 of M\n",
    "        \n",
    "        # pick private key element\n",
    "        adrs[16:24] = num_to_int(0)\n",
    "        adrs[-8:] = i*t + idx\n",
    "        sig_fors += PRF(sk_seed, adrs)\n",
    "        \n",
    "        # compute auth path\n",
    "        auth = bytearray()\n",
    "        for j in range(a):\n",
    "            s = floor(idx/(pow(2, j))) ^ 1\n",
    "            a, adrs = fors_treehash(sk_seed, i*k + s * pow(2,j), j, pk_seed, adrs)\n",
    "            auth += a\n",
    "        sig_fors = sig_fors + auth\n",
    "    return sig_fors, adrs"
   ]
  },
  {
   "cell_type": "markdown",
   "id": "6b46f2b1",
   "metadata": {},
   "source": [
    "### FORS Compute Public Key from Signature"
   ]
  },
  {
   "cell_type": "code",
   "execution_count": 61,
   "id": "2bca5b17",
   "metadata": {},
   "outputs": [],
   "source": [
    "def fors_pk_from_sig(sig_fors, m, pk_seed, adrs):\n",
    "    # compute roots\n",
    "    root = bytearray()\n",
    "    for i in range(k):\n",
    "        # get next index\n",
    "        idx = m[i*t - 1 : (i+1)*t - 2]  # ?? bits i*t to (i+1)*t - 1 of M\n",
    "        \n",
    "        # compute leaf\n",
    "        sk = sig_fors[i * (log2(t)*n + n)] # SK[i]\n",
    "        adrs[16:24] = num_to_bytes(0)\n",
    "        adrs[-8:] = num_to_bytes(i*t + idx)\n",
    "        node = [F(pk_seed, adrs, sk)]\n",
    "        \n",
    "        # compute root from leaf and AUTH\n",
    "        auth = sig_fors[i * (log2(t)*n + n) + n]\n",
    "        adrs[-8:] = idx\n",
    "        for j in range(int(log2(t))): # a = log(t)\n",
    "            adrs[16:24] = num_to_bytes(j+1)\n",
    "            if floor(idx/pow(2,j)) % 2 == 0:\n",
    "                adrs[-8:] = num_to_bytes(int.from_bytes(adrs[-8:]) // 2)\n",
    "                node.append(H(pk_seed, adrs, node[0] + auth[j]))\n",
    "            else:\n",
    "                adrs[-8:] = num_to_bytes((int.from_bytes(adrs[-8:]) - 1) // 2)\n",
    "                node.append(H(pk_seed, adrs, auth[j] + node[0]))\n",
    "            node[0] = node[1]\n",
    "        root += node[0]\n",
    "    forspkadrs = deepcopy(adrs)\n",
    "    forspkadrs[:8] = num_to_bytes(4)\n",
    "    pk = sha256(pk_seed, forspkadrs, root).digest()\n",
    "    return pk, adrs"
   ]
  },
  {
   "cell_type": "markdown",
   "id": "896b63b4",
   "metadata": {},
   "source": [
    "## SPHINCS+"
   ]
  },
  {
   "cell_type": "markdown",
   "id": "6c348d0f",
   "metadata": {},
   "source": [
    "Parameters:\n",
    "* n - the security parameter in bytes.\n",
    "* w - the Winternitz parameter\n",
    "* h - the height of the hypertree\n",
    "* d - the number of layers in the hypertree\n",
    "* k - the number of trees in FORS\n",
    "* t - the number of leaves of a FORS tree"
   ]
  },
  {
   "cell_type": "markdown",
   "id": "f8ad5737",
   "metadata": {},
   "source": [
    "### SPHINCS+ Key Generation"
   ]
  },
  {
   "cell_type": "code",
   "execution_count": 60,
   "id": "ff361b84",
   "metadata": {},
   "outputs": [],
   "source": [
    "def spx_keygen():\n",
    "    pk_seed = bytearray(os.urandom(n))\n",
    "    sk_prf = bytearray(os.urandom(n))\n",
    "    pk_seed = bytearray(os.urandom(n))\n",
    "    pk_root, adrs = ht_pk_gen(sk_seed, pk_seed)\n",
    "    return sk_seed, sk_prf, pk_seed, pk_root, pk_seed, pk_root"
   ]
  },
  {
   "cell_type": "markdown",
   "id": "e29c11f3",
   "metadata": {},
   "source": [
    "### SPHINCS+ Signature"
   ]
  },
  {
   "cell_type": "code",
   "execution_count": 62,
   "id": "4d5436a3",
   "metadata": {},
   "outputs": [],
   "source": [
    "def spx_sign(m, sk_seed, sk_prf, pk_seed, pk_root):\n",
    "    # init\n",
    "    adrs = bytearray(32)\n",
    "    \n",
    "    # generate randomizer\n",
    "    opt = bytearray(32)\n",
    "    r = PRF_msg(sk_prf, opt, m)\n",
    "    sig = r\n",
    "    \n",
    "    # compute message digest and index\n",
    "    digest = H_msg(r, pk_seed, pk_root, m)\n",
    "    tmp_md = digest[:floor((k*a + 7)/8)] # first floor((ka +7)/ 8) bytes of digest;\n",
    "    tmp_idx_tree = digest[floor((k*a + 7)/8) : floor((k*a + 7)/8) + floor((h - h/d +7)/ 8)] # next floor((h - h/d +7)/ 8) bytes of digest;\n",
    "    tmp_idx_leaf = digest[floor((k*a + 7)/8) + floor((h - h/d +7)/ 8):] # next floor((h/d +7)/ 8) bytes of digest;\n",
    "    \n",
    "    md = tmp_md[:k*a] # first ka bits of tmp_md;\n",
    "    idx_tree = tmp_idx_tree[:(h-h/d)] # first h - h/d bits of tmp_idx_tree;\n",
    "    idx_leaf = tmp_idx[:h//d] # first h/d bits of tmp_idx_leaf;\n",
    "    \n",
    "    # FORS sign\n",
    "    adrs[:8] = num_to_bytes(3)\n",
    "    adrs[8:] = idx_tree\n",
    "    adrs[8:16] = idx_leaf\n",
    "    \n",
    "    sig_fors, adrs = fors_sign(md, sk_seed, pk_seed, adrs)\n",
    "    sig = sig_fors\n",
    "    \n",
    "    # get FORS public key\n",
    "    pk_fors = fors_pk_from_sig(sig_fors, m, pk_seed, adrs)\n",
    "    \n",
    "    # sign FORS public key with HT\n",
    "    adrs[:8] = num_to_bytes(2)\n",
    "    sig_ht, adrs = ht_sign(pk_fors, sk_seed, pk_seed, idx_tree, idx_leaf)\n",
    "    sig += sig_ht\n",
    "    return sig"
   ]
  },
  {
   "cell_type": "code",
   "execution_count": null,
   "id": "f37390f4",
   "metadata": {},
   "outputs": [],
   "source": []
  }
 ],
 "metadata": {
  "kernelspec": {
   "display_name": "Python 3 (ipykernel)",
   "language": "python",
   "name": "python3"
  },
  "language_info": {
   "codemirror_mode": {
    "name": "ipython",
    "version": 3
   },
   "file_extension": ".py",
   "mimetype": "text/x-python",
   "name": "python",
   "nbconvert_exporter": "python",
   "pygments_lexer": "ipython3",
   "version": "3.9.10"
  }
 },
 "nbformat": 4,
 "nbformat_minor": 5
}
