{
 "cells": [
  {
   "cell_type": "markdown",
   "metadata": {
    "id": "O4N_EaD6qK27"
   },
   "source": [
    "# RSA\n",
    "\n",
    "Rivest Shamir Adleman (RSA) jest jednym z pierwszych algorytmów asymetrycznych. Został zaprojektowany w 1977 roku i jest używany do dzisiejszego dnia. Zyskał akceptację zarówno NISTu jak i organizacji ISO/IEC oraz RFC. RSA posiada parę kluczy - publiczny oraz prywatny. Publiczny klucz może być znany każdemu i służy on do operacji szyfrowania. Klucz prywatny jest znany tylko i wyłącznie instancji, która klucze generowała. Ta sama instancja jako jedna jedyna ma możliwość odszyfrowania kryptogramów.\n",
    "\n",
    "RSA umożliwia także tworzenie podpisów cyfrowych (z ang *Digital Signatures*, czyli *DS*). Podpis cyfrowy to dodatkowy blok informacji dołączony do wiadomości, który zapewnia:\n",
    "1. *Integrity* - integralność wiadomości, czyli potwierdzenie, że nie była ona w żaden sposób modyfikowana.\n",
    "2. *Authentication* - autentykacje podpisującego, czyli potwierdzenie jego tożsamości.\n",
    "3. *Non-repudiation* - czyli wysyłający podpisaną wiadomość nie ma możliwości zaprzeczenia faktu, że to on ją podpisał, natomiast otrzymujący wiadomość nie ma możliwości zaprzeczenia faktu, iż to on ją zweryfikował. \n",
    "\n",
    "Samo haszowanie wiadomości zapewnia tylko *integirty*, natomiast utworzenie kodu MAC (*Message Authentiaction Code*) zapewnia jedynie *integrity* oraz *authentiaction*.\n",
    "\n",
    "Tworzenie podpisu cyfrowego z wykorzystaniem RSA wygląda odwrotnie niż komunikacja szyfrowana. To znaczy: podpis tworzony jest z wykorzystaniem klucza prywatnego - a więc tylko instancja generująca klucze może wiadomość podpisać. Weryfikacja odbywa się z wykorzystaniem klucza publicznego - czyli każda instancja, której nasz klucz udostępnimy, może podpis zweryfikować. \n",
    "\n",
    "Na początek zaimportujmy niezbędne biblioteki."
   ]
  },
  {
   "cell_type": "code",
   "execution_count": null,
   "metadata": {},
   "outputs": [],
   "source": [
    "import sys\n",
    "!{sys.executable} -m pip install pycryptodome"
   ]
  },
  {
   "cell_type": "code",
   "execution_count": null,
   "metadata": {},
   "outputs": [],
   "source": [
    "import sys\n",
    "print(sys.executable)\n",
    "print(sys.version)\n",
    "print(sys.version_info)"
   ]
  },
  {
   "cell_type": "code",
   "execution_count": 98,
   "metadata": {
    "id": "F7OxWY2Mz7BD"
   },
   "outputs": [],
   "source": [
    "import Crypto.Util.number as cu\n",
    "import Crypto.Random as cr\n",
    "import hashlib as hl\n",
    "import math"
   ]
  },
  {
   "cell_type": "markdown",
   "metadata": {
    "id": "64vuvjiEuP3M"
   },
   "source": [
    "**Zadanie 1**\n",
    "\n",
    "Odpowiedz na poniższe pytania. Rozważ sytuację, w której dwie instancje komunikują się ze sobą, a trzecia próbuje dokonywać nieautoryzowanych zmian w treści wiadomości na drodze jej przesyłu.\n",
    "1. Dlaczego haszowanie zapewnia tylko integrity? Podpowiedź: czy haszowanie uwzględnia jakikolwiek klucz prywatny?\n",
    "2. Dlaczego kod MAC nie zapewnia *non-repudiation*? Co (niepożądanego) może dokonać odbierający wiadomość i atakujący komunikację? Podpowiedź: czy kody MAC, w szczególności popularny kod HMAC - który zakłada użycie klucza prywatnego - w jakikolwiek sposób weryfikuje KTO i DO CZEGO go użył? Kto dysponuje, a kto NIE dysponuje kluczem prywatnym HMAC?\n",
    "3. Dlaczego podpis cyfrowy zapewnia wszystkie te trzy cechy?"
   ]
  },
  {
   "cell_type": "markdown",
   "metadata": {
    "id": "2qE7Uzp2xXKM"
   },
   "source": [
    "## Generowanie kluczy\n",
    "\n",
    "Algorytm generowania kluczy RSA może zostać przedstawiony w następujący sposób:\n",
    "\n",
    "1) Znajdź dwie różne i kryptograficznie bezpieczne liczby pierwsze.\n",
    "\n",
    "2) Oblicz $n = p * q$.\n",
    "\n",
    "3) Oblicz $f = (p - 1) * (q - 1)$.  --> funkcja Eulera\n",
    "\n",
    "4) Znajdź dowolne $e$, takie, że $1 < e < f$ oraz $GCD(f, e) = 1$. GCD to największy wspólny dzielnik. Para $(e, n)$ to jest **klucz publiczny**.\n",
    "\n",
    "5) Oblicz $d = e^{-1}$ mod $f$. Para $(d, n)$ to **klucz prywatny**, przy czym tajne jest tylko $d$. \n",
    "\n",
    "d * e == 1 w ciele f"
   ]
  },
  {
   "cell_type": "markdown",
   "metadata": {
    "id": "1MRcuBhC0UHA"
   },
   "source": [
    "W ten sposób generowane parametry byłyby matematycznie poprawne, lecz kryptograficznie niebezpieczne. Ustalmy więc, że chcemy aby nasz klucz publiczny był odpwowiednio długi. Będzie to długość bitowa parametru $n$, oznaczmy ją jako $nlen = 2048$. Parametr $nlen$ zawsze przyjmuje parzyste wartości. Mając to założenie, musimy (**uwzględniając wszystkie założenia z algorytmu generowania kluczy**) dodatkowo zapewnić, że:\n",
    "\n",
    "1. $65537 ≤ e < 2^{256}$\n",
    "2. $LCM(p - 1, q - 1) \\geq e * 2^{nlen/2}$\n",
    "3. $2^{(nlen - 1)//2} < p < 2^{nlen/2}$\n",
    "4. $2^{(nlen - 1)//2} < q < 2^{nlen/2}$\n",
    "5. $|p - q| > 2^{(nlen/2) - 100}$\n",
    "\n",
    "Gdzie LCM oznacza *Least Common Multiple*, czyli najmniejszą wspólną wielokrotność. Funkcję LCM znajdziesz w bibliotece math. Do potęgowania **nie używaj** pythonowej notacji \"**\", tylko metody pow() - przetestuj obie te metody obliczania potęgi i porównaj wydajność (zadanie opcjonalne). Do obliczania wartości bezwzględnej użyj metody abs() - również standardowa metoda pythona. Resztę niezbędnych metod znajdziesz w bibliotece [Crypto.Util.number](https://pycryptodome.readthedocs.io/en/latest/src/util/util.html) zaimpoertowanej jako cu. Opis powyższych założeń możesz znaleźć w [tym](https://nvlpubs.nist.gov/nistpubs/SpecialPublications/NIST.SP.800-56Br2.pdf) dokumencie NIST-owym."
   ]
  },
  {
   "cell_type": "markdown",
   "metadata": {
    "id": "5inlXTklGGMv"
   },
   "source": [
    "**Zadanie 2**\n",
    "\n",
    "Uwzględniając wszystko powyższe, napisz metodę/metody generujące wartości $n$, $e$ oraz $d$."
   ]
  },
  {
   "cell_type": "code",
   "execution_count": 99,
   "metadata": {
    "id": "tRiOWsS7GRL9"
   },
   "outputs": [],
   "source": [
    "nlen = 2048\n",
    "\n",
    "def generate_keys():\n",
    "    p = cu.getStrongPrime(nlen//2)\n",
    "    q = cu.getStrongPrime(nlen//2)\n",
    "    # cond 3, 4, 5\n",
    "    while p <= pow(2, (nlen-1)//2) or q <= pow(2, (nlen-1)//2) or abs(p-q) <= pow(2, nlen/2 - 100):\n",
    "        p = cu.getStrongPrime(nlen//2)\n",
    "        q = cu.getStrongPrime(nlen//2)\n",
    "        \n",
    "    n = p * q\n",
    "    f = (p-1) * (q-1)\n",
    "    \n",
    "    # cond 1, 2\n",
    "    e = cu.getRandomRange(65537, min(f, pow(2, 256)))\n",
    "    while cu.GCD(f, e) != 1 or math.lcm(p-1, q-1) < e * pow(2,nlen//2):\n",
    "         e = cu.getRandomRange(65537, min(f, pow(2, 256)))  \n",
    "    \n",
    "    d = pow(e, -1, f)\n",
    "    \n",
    "    return (e, d, n)"
   ]
  },
  {
   "cell_type": "markdown",
   "metadata": {
    "id": "wae-whoNGlz_"
   },
   "source": [
    "## Naiwne szyfrowanie i deszyfrowanie"
   ]
  },
  {
   "cell_type": "markdown",
   "metadata": {
    "id": "fESNrzCYNVfy"
   },
   "source": [
    "\n",
    "Naiwny algorytm szyfrowania wiadomości **M** z wykorzystaniem RSA:\n",
    "\n",
    "1) Zakoduj $M$ jako liczbę.\n",
    "\n",
    "2) Oblicz: $C = M^e$ mod $n$."
   ]
  },
  {
   "cell_type": "markdown",
   "metadata": {
    "id": "FQvVgWWrHBX2"
   },
   "source": [
    "Naiwny algorytm deszyfrowania kryptogramu **C** z wykorzystaniem RSA:\n",
    "\n",
    "1) $M = C^d$ mod $n$.\n",
    "\n",
    "2) Zdekoduj wiadomość $M$ do jej pierwotnej postaci (np. stringa). \n",
    "\n",
    "\n",
    "***Czy M może być dowolna?*** \n",
    "Musi spełniać warunek: jaki?\n"
   ]
  },
  {
   "cell_type": "markdown",
   "metadata": {
    "id": "mFRFP0BsHc9l"
   },
   "source": [
    "**Zadanie 3**\n",
    "\n",
    "Napisz metody szyfrujące i deszyfrujące wiadomość $M$ zgodnie z powyższym algorytmem. Zaszyfruj wiadomość, zdeszyfruj i wypisz oryginalny tekst na ekranie. Odpowiedz na pytanie: jaki warunek musi spełniać liczbowa reprezentacja wiadomości $M$, aby można ją było poprawnie zaszyfrować i zdeszyfrować?"
   ]
  },
  {
   "cell_type": "code",
   "execution_count": 117,
   "metadata": {
    "id": "N3y7NMf_HkuB"
   },
   "outputs": [
    {
     "name": "stdout",
     "output_type": "stream",
     "text": [
      "ENCRYPTED MESSAGE:\n",
      "b'~\\xafi2\\x18(\\xbbsp,?-\\x06\\xfe\\xf7\\x10\\x1c\\xab>\\xa4\\x87\\\\E[\\x91\\x154\\xc7\\x84\\xd6\\x14-\\xafh$\\xa6\\x04b\\xd8@?\\xe2\\x84F9J\\xb1\\xa8\\x80\\x8a\\xd9\\x15\\x98\\xe5\"\\x00\\xc1\\x16\\x9c\\xae(\\x1c\\x12\\xcdq\\xfe\\x93\\xaf\\x90i\\x97f\\x02\\xf5O<\\x94\\xc2\\x0c\\xb6\\xa0\\xbc\\xbf(\\x89\\x97\\xed\\x1d\\xa4\\xae\\xa0\\x89\\x11\\x14\\xd6\\x05\\x03x\\x8d\\x9b\\x07\\xc4\\xe9#T\\xfd*r\\xec\\x82\\xea\\xf3d\\x12\\x1bb\\xeb\\xe1\\xf8!\\xd87\\x853|\\xfc3\\x1c\\xff\\\\\\xc1\\xfa;\\xf9q\\x90\\xbe[\\r\\xbb\\xeb\\xda\\xa3Yn\\xf5wV\\xbfQB\\xad\\xf4\\x81!\\x0f\\xb2\\xe53z\\xef\\xa6\\xae\\x80(,zn%\\x99\\x88]J\\xb1\\x0f\\x1a\\xa2$ug\\xa8A#!\\xc6\\x06M\\xfc=2\\xf3b\\x1b\\xb0e\\xb2Ur^0}\\xa7\\x0cvjaA\\x10\\xfd\\xacS\\xa2\\x7f\\xa6\\xd7\\xa5\\xcb\\x8e\\x7f\\x16\\xa5\\x15\\xfa\\x0bgbF-\\xf7v\\xf8\\x18\\xc7=<\\xd8w\\x90\\x01\\x06\\xf0\\xe4\\xfd`\\xda9\\xa0\\xce\\x18\\xc5R\\xcb^\\xaff\\xe6'\n",
      "DECRYPTED MESSAGE:\n",
      "Ala ma kota\n"
     ]
    }
   ],
   "source": [
    "M = \"Ala ma kota\"\n",
    "\n",
    "# Your code here\n",
    "def naive_encrypt(m, e, n):\n",
    "    mybytes = m.encode('utf-8')\n",
    "    c = pow(int.from_bytes(mybytes, byteorder='big'), e, n)\n",
    "    return c.to_bytes(math.ceil(c.bit_length() / 8), byteorder='big')\n",
    "\n",
    "def naive_decrypt(c, d, n):\n",
    "    m = pow(int.from_bytes(c, byteorder='big'), d, n)\n",
    "    mbytes = m.to_bytes(math.ceil(m.bit_length() / 8), byteorder='big')\n",
    "    return mbytes.decode('utf-8')\n",
    "\n",
    "E, D, N = generate_keys()\n",
    "encrypted_M = naive_encrypt(M, E, N)\n",
    "print(\"ENCRYPTED MESSAGE:\")\n",
    "print(encrypted_M)\n",
    "decrypted_M = naive_decrypt(encrypted_M, D, N)\n",
    "print(\"DECRYPTED MESSAGE:\")\n",
    "print(decrypted_M)"
   ]
  },
  {
   "cell_type": "markdown",
   "metadata": {
    "id": "NjF8Fr_dN0s6"
   },
   "source": [
    "## Naiwny schemat podpisu cyfrowego"
   ]
  },
  {
   "cell_type": "markdown",
   "metadata": {
    "id": "AsvkSf9zN4i8"
   },
   "source": [
    "Naiwna metoda tworzenia podpisu z wiadmości $M$:\n",
    "\n",
    "1) Oblicz $h = H(M)$. H to uzgodniona funkcja skrótu, niech to będzie SHA-256.\n",
    "\n",
    "2) Zakoduj $h$ jako liczbę.\n",
    "\n",
    "3) Oblicz $SIG = h^d$ mod $n$.\n",
    "\n",
    "4) Wyślij parę $(M, SIG)$ weryfikującemu."
   ]
  },
  {
   "cell_type": "markdown",
   "metadata": {
    "id": "xcMiT4DhOoOt"
   },
   "source": [
    "Naiwna metoda weryfikacji podpisu $(M, SIG)$:\n",
    "\n",
    "1) Oblicz $h = H(M)$. H to uzgodniona funkcja skrótu, niech to będzie SHA-256.\n",
    "\n",
    "2) Zakoduj $h$ jako liczbę.\n",
    "\n",
    "3) Oblicz $VER = SIG^e$ mod $n$.\n",
    "\n",
    "4) Jeżeli $VER = h$, weryfikacja przebiegła pomyślnie, a w przeciwnym razie niepomyślnie."
   ]
  },
  {
   "cell_type": "markdown",
   "metadata": {
    "id": "Jx86zFg6PDDs"
   },
   "source": [
    "**Zadanie 4**\n",
    "\n",
    "Zaimplementuj naiwną metodę tworzenia i weryfikowania podpisu cyfrowego RSA."
   ]
  },
  {
   "cell_type": "code",
   "execution_count": 12,
   "metadata": {},
   "outputs": [
    {
     "data": {
      "text/plain": [
       "b'\\x9f\\x86\\xd0\\x81\\x88L}e\\x9a/\\xea\\xa0\\xc5Z\\xd0\\x15\\xa3\\xbfO\\x1b+\\x0b\\x82,\\xd1]l\\x15\\xb0\\xf0\\n\\x08'"
      ]
     },
     "execution_count": 12,
     "metadata": {},
     "output_type": "execute_result"
    }
   ],
   "source": [
    "hl.sha256(\"test\".encode('utf-8')).digest()"
   ]
  },
  {
   "cell_type": "code",
   "execution_count": 101,
   "metadata": {
    "id": "Y7OSfmf0PJ2Q"
   },
   "outputs": [
    {
     "name": "stdout",
     "output_type": "stream",
     "text": [
      "signature:\n",
      " 16954200850299596581193072007354547381093877443673254867235498306765185869494436470457910470429156131116970699207823247609607989553190698146174866252085963141767585988503962327544313725783186018088302399913861575995989211679579592286223123831436597072223140769009726021570055157795838471421175735135655551013163346975061749142315665516553136622876420934084464681571629030025710914920658916733076027698316758290280141240072276934720426719472607291088432862911820746079532016559307933548400781886716898350000710084264114785916537293909509534577985069703937943644358496393076466244198737188363805915492135664790131977200\n"
     ]
    },
    {
     "data": {
      "text/plain": [
       "'positive verification'"
      ]
     },
     "execution_count": 101,
     "metadata": {},
     "output_type": "execute_result"
    }
   ],
   "source": [
    "# Your code here\n",
    "def naive_create_signature(m, d, n):\n",
    "    hbytes = hl.sha256(m.encode('utf-8')).digest()\n",
    "    h = int.from_bytes(hbytes, byteorder='big')\n",
    "    sig = pow(h, d, n)\n",
    "    return (m, sig)\n",
    "\n",
    "def naive_verify_signature(m, sig, e, n):\n",
    "    hbytes = hl.sha256(m.encode('utf-8')).digest()\n",
    "    h = int.from_bytes(hbytes, byteorder='big')\n",
    "    ver = pow(sig, e, n)\n",
    "    if ver == h:\n",
    "        return 'positive verification'\n",
    "    return 'negative verification'\n",
    "\n",
    "MESS, SIG = naive_create_signature(M, D, N)\n",
    "print(\"signature:\\n\", SIG)\n",
    "naive_verify_signature(MESS, SIG, E, N)"
   ]
  },
  {
   "cell_type": "markdown",
   "metadata": {
    "id": "-6MsXDuaIj2C"
   },
   "source": [
    "## MGF 1\n",
    "\n",
    "W dalszej części laboratoriów będziemy potrzebowali generować maskę. Jedynym zatwierdzonym algorytmem który do tego służy jest *Mask Generation Function 1*, opisany w [RFC 8017](https://www.rfc-editor.org/rfc/rfc8017). Jest on stosunkowo prosty. "
   ]
  },
  {
   "cell_type": "markdown",
   "metadata": {
    "id": "wXuwYrpsJzkU"
   },
   "source": [
    "Parametry wejściowe:\n",
    "\n",
    "1) M - bajty wiadomości.\n",
    "\n",
    "2) len - pożądana długość zwórconej maski w bajtach.\n",
    "\n",
    "3) H - wybrana funkcja skrótu, zwracająca $n$ bitowy skrót. Niech to będzie SHA-256. Dla wygody przyjmijmy też, że $hlen = n / 8$ oznacza liczbę bajtów zwracaną przez naszą funkcję skrótu.\n",
    "\n",
    "Wyjściem funkcji są bajty tworzące maskę."
   ]
  },
  {
   "cell_type": "markdown",
   "metadata": {
    "id": "oriQJLCvJ0vM"
   },
   "source": [
    "Algorytm MGF-1:\n",
    "\n",
    "1) Dla 32-biotwego integera $i = 0, ..., ⌈ \\frac{len}{hlen}⌉ - 1$ wykonuj kroki 2 i 3.\n",
    "\n",
    "2) Oblicz tmp = H(M || i). Znak || to konkatenacja i chodzi tu o bajty wiadomości M oraz reprezentację w bajtach 32-bitowego itegera $i$.\n",
    "\n",
    "3) Oblicz output = output || tmp.\n",
    "\n",
    "4) Zwróc $len$ wiodących bajtów zmiennej output."
   ]
  },
  {
   "cell_type": "markdown",
   "metadata": {
    "id": "o-AkA1mHK7cp"
   },
   "source": [
    "**Zadanie 5**\n",
    "\n",
    "Zaprogramuj i przetestuj dla dowolnych wartości funkcję MGF1."
   ]
  },
  {
   "cell_type": "code",
   "execution_count": 102,
   "metadata": {
    "id": "rrBuKJWZLCV9"
   },
   "outputs": [
    {
     "data": {
      "text/plain": [
       "bytearray(b'\\x1a\\xc9\\x07\\\\')"
      ]
     },
     "execution_count": 102,
     "metadata": {},
     "output_type": "execute_result"
    }
   ],
   "source": [
    "hlen = 32\n",
    "\n",
    "def MGF1(m, size, h=hl.sha256):\n",
    "    output = bytearray()\n",
    "    for i in range(0, math.ceil(size/hlen)):\n",
    "        ibytes = i.to_bytes(4, 'big')\n",
    "        tmp = h(m + ibytes).digest()\n",
    "        output = output + tmp\n",
    "    return output[: size + 1]\n",
    "\n",
    "# check with the wikipedia example\n",
    "MGF1(b\"foo\", 3, hl.sha1)"
   ]
  },
  {
   "cell_type": "markdown",
   "metadata": {
    "id": "K3gM9vGyPtna"
   },
   "source": [
    "## OAEP\n",
    "\n",
    "Nasz schemat ma na ten moment jedną sporą wadę, mianowicie rozmiar szyfrowanej wiadomości może być zbyt mały, czyniąc algorytm mniej bezpiecznym. Aby tego uniknąć, używamy algorytmu paddingu opisanego w [RFC 8017](https://www.rfc-editor.org/rfc/rfc8017#section-8), który zwie się *Optimal Assymetric Encryption Padding*."
   ]
  },
  {
   "cell_type": "markdown",
   "metadata": {
    "id": "PFJW4wW5QjjH"
   },
   "source": [
    "### OAEP encoding"
   ]
  },
  {
   "cell_type": "markdown",
   "metadata": {
    "id": "0BTXF8j6Reel"
   },
   "source": [
    "Parametry wejściowe:\n",
    "\n",
    "1) $H$ - funkcja skrótu SHA-256, oraz $hlen$ czyli długość zwracanego skrótu w bajtach.\n",
    "\n",
    "2) $k$ - długość liczby $n$ wyrażona w bajtach.\n",
    "\n",
    "3) $mlen$ - długość wiadomości wyrażona w bajtach.\n",
    "\n",
    "4) $M$ - bajty wiadomości.\n",
    "\n",
    "5) $mgf1$ - Mask Generation Function 1."
   ]
  },
  {
   "cell_type": "markdown",
   "metadata": {
    "id": "YWse9bSFRfmu"
   },
   "source": [
    "Algorytm:\n",
    "\n",
    "1) Jeżeli $mlen > k - 2*hlen - 2$ zwróc błąd.\n",
    "\n",
    "2) Oblicz: $lHash = H(\"\")$.\n",
    "\n",
    "3) Wygeneruj tablicę bajtów $PS$ składającą się z $k - mlen - 2*hlen - 2$ bajtów o wartości 0x00. Rozmiar $PS$ może wynosić 0.\n",
    "\n",
    "4) Oblicz: $DB = lHash || PS || 0x01 || M$. Długość $DB$ powinna wynosić $k - hlen - 1$ bajtów.\n",
    "\n",
    "5) Wygeneruj losową tablicę bajtów $seed$ o rozmiarze $hlen$.\n",
    "\n",
    "6) Oblicz: $dbMask = mgf1(seed, k - hlen - 1)$.\n",
    "\n",
    "7) Oblicz: $maskedDB = DB ⊕ dbMask$.\n",
    "\n",
    "8) Oblicz: $seedMask = mgf1(maskedDB, hlen)$.\n",
    "\n",
    "9) Oblicz: $maskedSeed = seed ⊕ seedMask$.\n",
    "\n",
    "10) Oblicz: $EM = 0x00 || maskedSeed || maskedDB$. Długość $EM$ powinna wynosić $k$.\n",
    "\n",
    "11) Zwróc $EM$."
   ]
  },
  {
   "cell_type": "markdown",
   "metadata": {
    "id": "lwJfZ28SUeKC"
   },
   "source": [
    "### OAEP decoding"
   ]
  },
  {
   "cell_type": "markdown",
   "metadata": {
    "id": "i21JfT9TUlXN"
   },
   "source": [
    "Parametry wejściowe:\n",
    "\n",
    "1) $H$ - funkcja skrótu SHA-256, oraz $hlen$ czyli długość zwracanego skrótu w bajtach.\n",
    "\n",
    "2) $k$ - rozmiar EM wyrażony w bajtach.\n",
    "\n",
    "3) $mgf1$ - Mask Generation Function 1.\n",
    "\n",
    "4) $EM$ - bajty zakodowanej wiadomości."
   ]
  },
  {
   "cell_type": "markdown",
   "metadata": {
    "id": "Toe-FHBzU1n-"
   },
   "source": [
    "Algorytm:\n",
    "\n",
    "1) Rozpakuj tablicę bajtów $EM$. Jej pierwszy bajt (najbardziej znaczący) przypisz do $Y$. Kolejne $hlen$ bajtów przypisz do $maskedSeed$, resztę do $maskedDB$. Czyli $EM = Y || maskedSeed || maskedDB$.\n",
    "\n",
    "2) Oblicz: $lHash = H(\"\")$.\n",
    "\n",
    "3) Oblicz: $seedMask = mgf1(maskedDB, hlen)$.\n",
    "\n",
    "4) Oblicz: $seed = maskedSeed ⊕ seedMask$.\n",
    "\n",
    "5) Oblicz: $dbMask = mgf1(seed, k - hlen - 1)$.\n",
    "\n",
    "6) Oblicz: $DB = maskedDB ⊕ dbMask$.\n",
    "\n",
    "7) Rozpkauj tablicę bakjtów $DB$. Pierwsze (najbardziej znaczące) $hlen$ bajtów przypisz do zmiennej $lHash'$. Następne $k - mlen - 2*hlen - 2$ bajtów do PS. Kolejny pojedynczy bajt powinien wynosić 0x01, jeżeli jest inaczej zwróć błąd i **zakończ działanie**. Resztę bajtów przypsiz do zmiennej $M$. Czyli: $DB = lHash' || PS || 0x01 || M$. \n",
    "\n",
    "8) Jeżeli $Y \\neq 0x00$ zwróć błąd i **zakończ działanie**.\n",
    "\n",
    "9) Jeżeli $lHash \\neq lHash'$ zwróć błąd i **zakończ działanie**.\n",
    "\n",
    "10) Zwróc $M$."
   ]
  },
  {
   "cell_type": "markdown",
   "metadata": {
    "id": "A0yx2wepX4n1"
   },
   "source": [
    "**Zadanie 6**\n",
    "\n",
    "Zaproogramuj kodowanie i dekodowanie OAEP. Zmodyfikuj algorytm szyfrowania RSA, tak, aby przed zaszyfrowaniem wiadomość była paddingowana. Zmodyfikuj algorytm deszyfrowania tak, aby po zdeszyfrowaniu konieczne było wywołanie metody dekodowania OAEP w celu odzyskania wiadomości."
   ]
  },
  {
   "cell_type": "code",
   "execution_count": 155,
   "metadata": {
    "id": "sA1oCpziYT6z"
   },
   "outputs": [
    {
     "name": "stdout",
     "output_type": "stream",
     "text": [
      "45  should equal:  45\n",
      "78  should equal:  78\n",
      "ENCODED MESSAGE:\n",
      "b'\\x00F\\x16\\xcd\\xcb#\\x1e`\\x81S\\\\\\xbbvQ\\x16\\x14>\\xfbd\\x87v\\xf9\\x9a\\xf7\\xad4\\xa9\\x007*\\xe4C\\xd6`\\xdby\\xaeB`\\x95\\xdd\\x8eiz}\\xc0#\\xbe\\x91\\xa7\\x9dbc\\xe1\\xd5\\xeb\\x1d2\\x00\\x80y\\xe2#\\xf90\\x82\\xa2R\\x8b\\xf8xG\\xcc\\xf8\\xd6\\xd06\\x17'\n",
      "DECODED MESSAGE:\n",
      "Ala ma kota\n"
     ]
    }
   ],
   "source": [
    "M = \"Ala ma kota\"\n",
    "\n",
    "def encode_OAEP(k, mlen, m, mgf1, h=hl.sha256):\n",
    "    if mlen > k - 2 * hlen - 2:\n",
    "        raise ValueError(\"mlen > k - 2 * hlen - 2\")\n",
    "    lHash = h(b\"\").digest()\n",
    "    ps = bytearray(k - mlen - 2 * hlen - 2)\n",
    "    db = lHash + ps + b'\\x01' + m\n",
    "    print(len(db), ' should equal: ', k - hlen - 1)\n",
    "    seed = cr.get_random_bytes(hlen)\n",
    "    dbMask = mgf1(seed, k - hlen - 1)\n",
    "    maskedDB = bytearray([db[i] ^ dbMask[i] for i in range(len(db))])\n",
    "    seedMask = mgf1(maskedDB, hlen)\n",
    "    maskedSeed = bytearray([seed[i] ^ seedMask[i] for i in range(len(seed))])\n",
    "    em = b'\\x00' + maskedSeed + maskedDB\n",
    "    print(len(em), ' should equal: ', k)\n",
    "    return em\n",
    "\n",
    "def decode_OAEP(k, mgf1, em, h=hl.sha256):\n",
    "    y = em[0]\n",
    "    maskedSeed = em[1:hlen+1]\n",
    "    maskedDB = em[hlen+1:]\n",
    "    lHash = h(b\"\").digest()\n",
    "    seedMask = mgf1(maskedDB, hlen)\n",
    "    seed = bytearray([maskedSeed[i] ^ seedMask[i] for i in range(len(maskedSeed))])\n",
    "    dbMask = mgf1(seed, k - hlen - 1)\n",
    "    db = bytearray([maskedDB[i] ^ dbMask[i] for i in range(len(maskedDB))])\n",
    "    \n",
    "    lHash2 = db[:hlen]\n",
    "    db = db[hlen:]\n",
    "\n",
    "    i = 0\n",
    "    while db[i] != 1: \n",
    "        i += 1\n",
    "    \n",
    "    if db[i] == 1: \n",
    "        i += 1\n",
    "    \n",
    "    m = db[i:]\n",
    "    \n",
    "    if y != 0:\n",
    "        raise ValueError(\"y should equal 0x00\")\n",
    "    if lHash != lHash2:\n",
    "        raise ValueError(\"lHash and lHash' should be equal\", lHash, lHash2)\n",
    "    return m\n",
    "\n",
    "K = 78\n",
    "encoded_M = encode_OAEP(K, len(M.encode('utf-8')), M.encode('utf-8'), MGF1)\n",
    "print(\"ENCODED MESSAGE:\")\n",
    "print(encoded_M)\n",
    "decoded_M = decode_OAEP(K, MGF1, encoded_M)\n",
    "print(\"DECODED MESSAGE:\")\n",
    "print(decoded_M.decode())"
   ]
  },
  {
   "cell_type": "code",
   "execution_count": 165,
   "metadata": {},
   "outputs": [
    {
     "name": "stdout",
     "output_type": "stream",
     "text": [
      "223  should equal:  223\n",
      "256  should equal:  256\n",
      "ENCRYPTED MESSAGE:\n",
      "b\"\\xbc?N>=\\xc9\\xf7\\x9a\\xd6+-eM\\xc1\\xa3\\x07_s\\x11\\x8er\\xcf\\xcb\\xf7\\x15 \\x80F\\x0c\\x1eRWL*d\\xec\\x90{\\xab\\x1b\\xde\\xd1\\x8d\\xf2\\xae\\x89\\x86'|\\xd6[-\\xb4\\xedS0\\xdd\\x87\\x8fX\\xcf\\xc7\\x94\\x9f\\xa5\\xaf\\xeb?\\xbc\\x88\\xb3\\xc3\\x12>\\x0f\\x0c\\xd1d\\x1e)\\xc7\\x10\\xd7\\xe7<\\xf5\\x16n0\\xdc\\x19G\\x15U\\xee\\xd2\\x85\\xd5\\xdb\\x90\\xb7\\xca-Y\\xbf\\xd7\\xaf\\xcdK\\x98'U\\x03e\\xeb^]\\x80\\xb2t\\x92\\x96\\xf9\\xe4\\xdc\\x0b\\x962G\\xc0\\xad\\xf2\\x86\\xfd\\x08x\\xbdJ9UN\\x97\\x85\\xdda&9\\xc0:4\\xc6\\xf6\\x90\\x94\\xe9\\x87lCF\\xe4\\xef\\xbf\\x0e@\\xeb\\x93U!\\xf2e\\x81\\xa7\\xa9\\xd6\\xa5T\\xc0\\x00\\x16`Y\\xea\\xe0A\\x18,\\xfa53\\x9b\\xda\\x84\\xe5k\\x85\\xfa\\xf30.\\x8ffw\\x87\\xd4m\\x92\\x08V~\\xec{\\xcdh\\xb16\\xdc\\xb0k\\xb6\\xf8\\x9a\\xe3\\x98G\\xc6\\xa3\\n\\x13\\xc65w5v\\x8f\\xff\\xa2d\\xab\\xb0/Ci0{\\xb5\\xad\\xdc\\xe2\\x9f\\xd8\\xae\\x9c\\xe5TKK\"\n",
      "DECRYPTED MESSAGE:\n",
      "bytearray(b'Ala ma kota')\n"
     ]
    }
   ],
   "source": [
    "def OAEP_encrypt(m, e, n, mgf1):\n",
    "    k = math.ceil(n.bit_length() / 8)\n",
    "#     mbytes = m.encode('utf-8')\n",
    "    mbytespadded = encode_OAEP(k, len(m), m, mgf1)\n",
    "    c = pow(int.from_bytes(mbytespadded, byteorder='big'), e, n)\n",
    "    return c.to_bytes(k, byteorder='big')\n",
    "\n",
    "def OAEP_decrypt(c, d, n, mgf1):\n",
    "    k = math.ceil(n.bit_length() / 8)\n",
    "    m = pow(int.from_bytes(c, byteorder='big'), d, n)\n",
    "    mbytes = m.to_bytes(k, byteorder='big')\n",
    "    return decode_OAEP(k, mgf1, mbytes)\n",
    "\n",
    "E, D, N = generate_keys()\n",
    "encrypted_M = OAEP_encrypt(M.encode('utf-8'), E, N, MGF1)\n",
    "print(\"ENCRYPTED MESSAGE:\")\n",
    "print(encrypted_M)\n",
    "decrypted_M = OAEP_decrypt(encrypted_M, D, N, MGF1)\n",
    "print(\"DECRYPTED MESSAGE:\")\n",
    "print(decrypted_M)"
   ]
  },
  {
   "cell_type": "markdown",
   "metadata": {
    "id": "ug2e_I03YoR1"
   },
   "source": [
    "## EMSA - PSS\n",
    "\n",
    "Utworzenie bezpiecznej sygnatury RSA wymaga zastowania algorytmu *Encoding Method for Signature with Appendix - Probabilistic Signature Scheme* ."
   ]
  },
  {
   "cell_type": "markdown",
   "metadata": {
    "id": "KrWpFTRHZSA7"
   },
   "source": [
    "### EMSA encoding"
   ]
  },
  {
   "cell_type": "markdown",
   "metadata": {
    "id": "bNPN9mqIZT5F"
   },
   "source": [
    "Parametry wejściowe:\n",
    "\n",
    "1) $H$ - funkcja skrótu SHA-256, oraz $hlen$ czyli długość zwracanego skrótu w bajtach.\n",
    "\n",
    "2) $slen$ - długość soli w bajtach, powinna być równa $hlen$.\n",
    "\n",
    "3) $M$ - bajty wiadomości do podpisania.\n",
    "\n",
    "4) $mgf1$ - Mask Generation Function 1.\n",
    "\n",
    "5) $emBits$ - pożądana długość sygnatury w bitach. Jest to najczęściej długość bitowa liczby modulus $n$ pomniejszona o jeden, czyli w naszym przypadku 2047.\n",
    "\n",
    "6) $emlen$ - długość sygnatury w bajtach, równa długości parametru $n$ wyrażonego w bajtach.\n"
   ]
  },
  {
   "cell_type": "markdown",
   "metadata": {
    "id": "6-0Vzuzf_f81"
   },
   "source": [
    "Algorytm:\n",
    "\n",
    "1) Oblicz: $mHash = H(M)$.\n",
    "\n",
    "2) Jeżeli $emlen < hlen + slen + 2$ **zakończ i zwróć błąd**.\n",
    "\n",
    "3) Wygeneruj tablicę losowych bajtów $salt$ o długości $slen$.\n",
    "\n",
    "4) Oblicz: $M' = 0x00 00 00 00 00 00 00 00 || mHash || salt$. Długość $M'$ to $8 + hlen + slen$.\n",
    "\n",
    "5) Oblicz: $mHash' = H(M')$.\n",
    "\n",
    "6) Wygeneruj tablicę $PS$ składającą się z bajtów 0x00 o długości $emlen - slen - hlen - 2$.\n",
    "\n",
    "7) Oblicz: $DB = PS || 0x01 || salt$. Długość $DB$ powinna wynosić $emlen - hlen - 1$ bajtów.\n",
    "\n",
    "8) Oblicz: $dbMask = mgf1(mHash', emlen - hlen - 1)$.\n",
    "\n",
    "9) Oblicz: $maskedDB = DB ⊕ dbMask$.\n",
    "\n",
    "10) Ustaw $8 * emlen - emBits$ **najbardziej znaczących** bitów $maskedDB$ na wartości 0.\n",
    "\n",
    "11) Oblicz: $EM = maskedDB || mHash' || 0xbc$.\n",
    "\n",
    "12) Zwróć $EM$.\n"
   ]
  },
  {
   "cell_type": "markdown",
   "metadata": {
    "id": "HWbbbw1DCGpr"
   },
   "source": [
    "## EMSA decoding"
   ]
  },
  {
   "cell_type": "markdown",
   "metadata": {
    "id": "xR6QyzduCIoc"
   },
   "source": [
    "Parametry wejściowe:\n",
    "\n",
    "1) $H$ - funkcja skrótu SHA-256, oraz $hlen$ czyli długość zwracanego skrótu w bajtach.\n",
    "\n",
    "2) $slen$ - długość soli w bajtach, powinna być równa $hlen$.\n",
    "\n",
    "3) $EM$ - sygnatura wiadomości $M$.\n",
    "\n",
    "4) $M$ - bajty wiadomości do weryfikacji.\n",
    "\n",
    "4) $mgf1$ - Mask Generation Function 1.\n",
    "\n",
    "5) $emBits$ - długość sygnatury w bitach. Jest to najczęściej długość bitowa liczby modulus $n$ pomniejszona o jeden, czyli w naszym przypadku 2047.\n",
    "\n",
    "6) $emlen$ - długość sygnatury w bajtach, równa długości parametru $n$ wyrażonego w bajtach."
   ]
  },
  {
   "cell_type": "markdown",
   "metadata": {
    "id": "MqZUQgT6CspI"
   },
   "source": [
    "Algorytm:\n",
    "\n",
    "1) Oblicz: $mHash = H(M)$.\n",
    "\n",
    "2) Jeżeli $emlen < hlen + slen + 2$ **zakończ i zwróć błąd weryfikacji**.\n",
    "\n",
    "3) Jeżeli ostatni bajt (najmniej znaczący) $EM$ nie ma wartości 0xbc **zakończ i zwróć błąd weryfikacji**.\n",
    "\n",
    "4) Podstaw $emlen - hlen - 1$ najbardziej znaczących bajtów do $maskedDB$ oraz kolejne $hlen$ bajtów do $mHash'$.\n",
    "\n",
    "5) Jeżeli $8 * emlen - emBits$ najbardziej znaczących bitów $maskedDB$ nie ma wartości 0, **zakończ i zwróć błąd weryfikacji**.\n",
    "\n",
    "6) Oblicz: $dbMask = mgf1(mHash', emlen - hlen - 1)$.\n",
    "\n",
    "7) Oblicz: $DB = maskedDB ⊕ dbMask$.\n",
    "\n",
    "8) Ustaw $8 * emlen - emBits$ najbardziej znaczących bitów $DB$ na 0.\n",
    "\n",
    "9) Jeżeli $emlen - hlen - slen - 2$ najbardziej znaczących bajtów $DB$ nie posiada wartości 0x00 lub gdy bajt na pozycji $emlen - hlen - slen - 1$ (licząc od najbardziej znaczącego) nie posiada wartości 0x01 **zakończ i zwróć błąd weryfikacji**.\n",
    "\n",
    "10) Przypisz do zmiennej $salt$ dokładnie $slen$ najmniej znaczących bajtów $DB$.\n",
    "\n",
    "11) Oblicz: $M' = 0x00 00 00 00 00 00 00 00 || mHash || salt$. Długość $M'$ to $8 + hlen + slen$.\n",
    "\n",
    "12) Oblicz $mHash'' = H(M')$.\n",
    "\n",
    "13) Jeżeli $mHash' \\neq mHash''$ **zakończ i zwróć błąd weryfikacji**, w przeciwnym razie **weryfikacja powiodła się**.\n"
   ]
  },
  {
   "cell_type": "markdown",
   "metadata": {
    "id": "wrxJHSkyIvz5"
   },
   "source": [
    "**Zadanie 7**\n",
    "\n",
    "Zaprogramuj kodowanie i dekodowanie EMSA, a następnie popraw algorytmy tworzenia i weryfikacji podpisu cyfrowego RSA. Tworzenie podpisu powinno wyglądać tak, że wiadomość najpierw jest kodowana z wykorzystaniem EMSA, a później tworzony jest popdis z wykorzystaniem klucza prywatnego. Dekodowanie powinno wyglądać tak, że najpierw używany jest klucz publiczny do odtworzenia podpisu EMSA, a następnie wykorzystywane jest dekodowanie EMSA w celu weryfikacji."
   ]
  },
  {
   "cell_type": "code",
   "execution_count": 125,
   "metadata": {
    "id": "S-TbQA4NJrl3"
   },
   "outputs": [
    {
     "name": "stdout",
     "output_type": "stream",
     "text": [
      "72 should equal  72\n",
      "223 should equal  223\n",
      "SIGNATURE:\n",
      "bytearray(b'\\x00\\x0f;E\\x1b&\\xae\\x9a\\x9c\\xbc2w\\xe3\\x83%\\xe3\\x01\\xa2\"\\xb1\\xb1Xk\\t_||\\xe0\\xcf\\xba\\xc2\\x94v\\xff\\x10\\x12fs\\xd9\\xd1G\\x84\\xe5\\xa6\\x9b5=V\\xd6|L\\x1eBr9I\\xe0\\x1f\\x99\\xc0\\xf2\\xcbw\\xb9\\x15R\\xf2[^\\xffc$\\xc9\\xf3\"\\xa9\\xeb\\xb3N\\xb9\\xe0\\xf4\\xafP7\\xb0J\\xcb\\x12\\xf4QX\\xe5\\xc8\\x9d\\x1a\\x11\\x16\\xa6z./G\\xb9h\\x1f\\xc6\\xb0\\x1e\\xf3\\xe3\\x8c\\x00\\xf77\\xbc\\xda\\r\\x01)l|\\x86p_\\xdf\\x01\\xdfE\\x86d\\xf2\\x8c\\x8a\\x9czJ\\xfbV\\x12\\xf5w41\\x98\\xc4\\xf8\\xee\\x80\\x892\\xe0\\xd1\\xddZ\\xa1\\xb3c\\xd0\\xcbm\\'\\x00.\\xdc\\xd5W\\x7fe9x\\n\\xadxS*\\xe1\\xc9\\x0f\\x81\\xda}M}\\x90/\\xaar\\xa9\\x1a\\xcduL\\xc4\\xba\\xd4\\xad\\xf4\\xe2v\\x0f\\x82\\xf1\\xd0\\x03\\xe3\\xa26!\\xb0k\\xbdP(Le\\x04T)k\\x9c\\x1bF\\xe8hK\\x10\\x85?@\\x00\\xc6\\\\\\xe9\\xc0\\xc9\\x9fv\\x126\\x12\\x17\\xe3\\xcc\\x91\\x85\\xd8\\x83moT\\xfd\\xf5\\xf9\\xdb\\xbc')\n",
      "72 should be equal to 72\n"
     ]
    },
    {
     "data": {
      "text/plain": [
       "'VERIFICATION POSITIVE'"
      ]
     },
     "execution_count": 125,
     "metadata": {},
     "output_type": "execute_result"
    }
   ],
   "source": [
    "m = \"Ala ma podpis\"\n",
    "\n",
    "def encode_EMSA(slen, m, mgf1, emBits, emlen, h=hl.sha256):\n",
    "    mHash = h(m).digest()\n",
    "    if emlen < hlen + slen + 2:\n",
    "        raise ValueError('emlen < hlen + slen + 2')\n",
    "    salt = cr.get_random_bytes(slen)\n",
    "    m2 = b'\\x00' * 8 + mHash + salt\n",
    "    print(len(m2), 'should equal ', 8 + hlen + slen)\n",
    "    mHash2 = h(m2).digest()\n",
    "    ps = bytearray(emlen - slen - hlen - 2)\n",
    "    db = ps + b'\\x01' + salt\n",
    "    print(len(db), 'should equal ', emlen - hlen - 1)\n",
    "    dbMask = mgf1(mHash2, emlen - hlen - 1)\n",
    "    maskedDB = bytearray([db[i] ^ dbMask[i] for i in range(len(db))])\n",
    "    maskedDB[:8 * emlen - emBits] = b'\\x00' * (8 * emlen - emBits)\n",
    "    em = maskedDB + mHash2 + b'\\xbc'\n",
    "    return em\n",
    "\n",
    "def decode_EMSA(slen, em, m, mgf1, emBits, emlen, h=hl.sha256):\n",
    "    mHash = h(m).digest()\n",
    "    if emlen < hlen + slen + 2:\n",
    "        raise ValueError('emlen < hlen + slen + 2')\n",
    "    if em[-1] != 188:\n",
    "        return('1: VERIFICATION NEGATIVE')\n",
    "    maskedDB = em[: emlen - hlen - 1]\n",
    "    em = em[emlen - hlen - 1:]\n",
    "    \n",
    "    mHash2 = em[:hlen]\n",
    "    em = em[hlen:]\n",
    "    if maskedDB[:8 * emlen - emBits] != b'\\x00' * (8 * emlen - emBits):\n",
    "        return('2: VERIFICATION NEGATIVE')\n",
    "    dbMask = mgf1(mHash2, emlen - hlen - 1)\n",
    "    db = bytearray([maskedDB[i] ^ dbMask[i] for i in range(len(maskedDB))])\n",
    "    db[: 8 * emlen - emBits] = b'\\x00' * (8 * emlen - emBits)\n",
    "    if db[:emlen - hlen - slen - 2] != b'\\x00' * (emlen - hlen - slen - 2) or db[emlen - hlen - slen - 2] != 1:\n",
    "        return('3: VERIFICATION NEGATIVE')\n",
    "    salt = db[-slen:]\n",
    "    m2 = b'\\x00' * 8 + mHash + salt\n",
    "    print(len(m2), 'should be equal to', 8 + hlen + slen)\n",
    "    mHash3 = h(m2).digest()\n",
    "    if(mHash2 != mHash3):\n",
    "        return('4: VERIFICATION NEGATIVE')\n",
    "    return('VERIFICATION POSITIVE')\n",
    "        \n",
    "encoded_M = encode_EMSA(hlen, M.encode('utf-8'), MGF1, nlen - 1 , nlen//8)\n",
    "print(\"SIGNATURE:\")\n",
    "print(encoded_M)\n",
    "decoded_M = decode_EMSA(hlen, encoded_M, M.encode('utf-8'), MGF1, nlen - 1, nlen//8)\n",
    "decoded_M"
   ]
  },
  {
   "cell_type": "code",
   "execution_count": 133,
   "metadata": {},
   "outputs": [
    {
     "name": "stdout",
     "output_type": "stream",
     "text": [
      "72 should equal  72\n",
      "223 should equal  223\n",
      "signature:\n",
      " 7155650621589448627039926888571344979632189723717535076113557863869942250773548700709251470742601417443501313417010704535642702380151754627872395861864427583117670890370485358297107134682306274824736352203269298164614531307174307567185168353309434103511802008789527092370214499652479898625704761724840094007901109968116636874137827098730530431268868332609899148768330927193192680781807597743065820367837356430772249826713861964950359938717463018640692776560244487790730361339541351701597943921288439927470820964077945644001035371044930446936853175540662592336847180595358718739851401474593305004254899863396976018594\n",
      "72 should be equal to 72\n"
     ]
    },
    {
     "data": {
      "text/plain": [
       "'VERIFICATION POSITIVE'"
      ]
     },
     "execution_count": 133,
     "metadata": {},
     "output_type": "execute_result"
    }
   ],
   "source": [
    "# Your code here\n",
    "def EMSA_create_signature(m, d, n, mgf1):\n",
    "    em = encode_EMSA(hlen, m.encode('utf-8'), mgf1, nlen - 1 , nlen//8)\n",
    "    h = int.from_bytes(em, byteorder='big')\n",
    "    sig = pow(h, d, n)\n",
    "    return (m, sig)\n",
    "\n",
    "def EMSA_verify_signature(m, sig, e, n, mgf1):\n",
    "    ver = pow(sig, e, n)\n",
    "    encoded_M = ver.to_bytes(nlen//8, byteorder='big')\n",
    "    h = decode_EMSA(hlen, encoded_M, m.encode('utf-8'), mgf1, nlen - 1, nlen//8)\n",
    "    return h\n",
    "\n",
    "MESS, SIG = EMSA_create_signature(M, D, N, MGF1)\n",
    "print(\"signature:\\n\", SIG)\n",
    "EMSA_verify_signature(MESS, SIG, E, N, MGF1)"
   ]
  },
  {
   "cell_type": "markdown",
   "metadata": {
    "id": "d7txLS64JZI-"
   },
   "source": [
    "## RSA - KEM\n",
    "\n",
    "RSA - KEM, czyli z ang. *Key Encapsulation Mechanism* to prosty algorytm dedykowany do wymiany klucza symetrycznego. Obie strony dysponują uzgodnioną funkcją skótu H. Instancja, która chce **otrzymać** tajny klucz do komunikacji symetrycznej generuje klucze RSA i udostępnia swój klucz publiczny. Instancja, która chce wygenerować tajny klucz do komunikacji symetrycznej dysponuje kluczem publicznym instancji, która chce go otrzymać."
   ]
  },
  {
   "cell_type": "markdown",
   "metadata": {
    "id": "tl7cu30PJ1lk"
   },
   "source": [
    "Instancja generująca klucz symetryczny:\n",
    "\n",
    "1) Znajdź losową liczbę $RAND$ spełniającą warunki OAEP.\n",
    "\n",
    "2) Oblicz: $KEY = H(RAND)$. Jeżeli trzeba, przytnij $KEY$ do odpowiedniej długości.\n",
    "\n",
    "3) Oblicz: $CIPHERED\\_KEY = RSA\\_OAEP\\_ENCODING(KEY, (e, n))$.\n",
    "\n",
    "4) Wyślij $CIPHERED\\_KEY$."
   ]
  },
  {
   "cell_type": "markdown",
   "metadata": {
    "id": "oFB9JAwULw70"
   },
   "source": [
    "Instancja otrzymująca zaszyfrowany klucz symetryczny:\n",
    "\n",
    "1) Oblicz: $KEY = RSA\\_OAEP\\_DECODING(CIPHERED\\_KEY, (d, n))$\n",
    "\n",
    "2) Jeżeli trzeba przytnij $KEY$ do odpowiedniej długości."
   ]
  },
  {
   "cell_type": "markdown",
   "metadata": {
    "id": "386c_pDZMSRG"
   },
   "source": [
    "Np. AES występuje w wersji 128b, 192b i 256b. Jeżeli jako H przyjmiemy więc SHA-256, nie trzeba przycinać klucza dla algorytmu AES-256. W przeciwnym razie należy klucz odpowiednio przyciąć (z lewej lub prawej, byle obie strony tak samo) i to ta wartość staje się kluczem symetrycznym."
   ]
  },
  {
   "cell_type": "markdown",
   "metadata": {
    "id": "7N66NPBBMpLS"
   },
   "source": [
    "**Zadanie 8**\n",
    "\n",
    "Zasymuluj takową wymianę (bez przycinania klucza)."
   ]
  },
  {
   "cell_type": "code",
   "execution_count": 173,
   "metadata": {
    "id": "Td_Qg2zlMuRt"
   },
   "outputs": [
    {
     "name": "stdout",
     "output_type": "stream",
     "text": [
      "KEY\n",
      "b'>\\xbe\\x1bYv*\\x1c\\x80 \\xc1\\xef\\xe3t}\\xd0\\x7f\\x0e0a~\\xd6\\x0bNj[\\xee\\x16\\xb6\\xeaB\\x1d\\xd0'\n",
      "223  should equal:  223\n",
      "256  should equal:  256\n",
      "bytearray(b'>\\xbe\\x1bYv*\\x1c\\x80 \\xc1\\xef\\xe3t}\\xd0\\x7f\\x0e0a~\\xd6\\x0bNj[\\xee\\x16\\xb6\\xeaB\\x1d\\xd0')\n"
     ]
    },
    {
     "data": {
      "text/plain": [
       "b'2\\xcd\\x0b->\\xf9\\xa0 \\xe8[\\x9d\\x08\\xca\\xdd\\x81\\x03\\x00\\xfd\\xe3`Q\\x96\\x80T\\x86\\x91?\\xe7\\xecT<\\xedM+\\x9d\\xcb\\x0c\\x9b}\\xb6J\\x04d\\xe3J\\xaa\\x02\\xde\\x95#Z\\xb9\\x9a\\x8e\\xc1\\xa9\\xc5\\x17\\x9bS\\xa2\\x9a\\xa4@\\xda\\x9cr\\x8e\\xb0\\x1c\\xd1tC\\x0e\\x0e\\x1a\\x91\\x11\\xfbE\\x17\\x88^Qv\\xb4\\xa1\\xa9S\\xf8\\xe0|\\xa7/\\xbf\\xc1$V\\xb9\\xa4\\x1c\\xba\\xc9Dg\\xfb\\xf5T\\xc2\\xc9\\x19\\xc4gz\\xc1!#\\xc0ts.\\x93j\\xaa K\\xcb\\x89VFub\\xcel\\xd4=\\x1e\\xf872\\xe1^\\x05\\t\\x16\\xcd\\xde\\x8dZ\\xb7\\xb5v\\xe4\\x04^\\x9dL-\\x9c\\xe1\\xfaV\"\\x1d\\x8d\\xc8\\xcf\\xfb9=\\xf6OW\\xdc\\x1d\\xbf\\xeb\\xa8U;\\xc7\\xed\\xda\\x07\\xdc\\x1c\\xd8\\xbbl\\xcb\\xf9\\xe9\\xd1\\x8c\\x18\\xb8\\x90k\\xa8`l\\xb8W\\xd7Yw\\xe9\\xa2\\x87\\x8f3M\\xd8k\\r\\xf3.\\xe2N\\xfb\\xd4\\\\\\xbc\\xd4\\xb9\\xf4\\x9d!qc\\xd2\\x87\\xd1\\xd3\\xe0<8 \\xd5\\x16\\xc5\\x84\\xe9\\xa6\\xff\\\\\\xeb\\x01\\x08\\x8e\\xff_\\x95\\xe6m\\xc2'"
      ]
     },
     "execution_count": 173,
     "metadata": {},
     "output_type": "execute_result"
    }
   ],
   "source": [
    "def encryptKEM(e, n, mgf1, h=hl.sha256):\n",
    "    rand = cr.get_random_bytes(1)\n",
    "    key = h(rand).digest()\n",
    "    print(\"KEY\")\n",
    "    print(key)\n",
    "    ciphered_key = OAEP_encrypt(key, e, n, mgf1)\n",
    "    return ciphered_key\n",
    "\n",
    "def decryptKEM(ciphered_key, d, n, mgf1, h=hl.sha256):\n",
    "    key = OAEP_decrypt(ciphered_key, d, n, mgf1)\n",
    "    return key\n",
    "\n",
    "E, D, N = generate_keys()\n",
    "ciphered_key = encryptKEM(E, N, MGF1)\n",
    "print(decryptKEM(ciphered_key, D, N, MGF1))\n",
    "ciphered_key"
   ]
  },
  {
   "cell_type": "code",
   "execution_count": null,
   "metadata": {},
   "outputs": [],
   "source": []
  }
 ],
 "metadata": {
  "colab": {
   "provenance": []
  },
  "kernelspec": {
   "display_name": "Python 3 (ipykernel)",
   "language": "python",
   "name": "python3"
  },
  "language_info": {
   "codemirror_mode": {
    "name": "ipython",
    "version": 3
   },
   "file_extension": ".py",
   "mimetype": "text/x-python",
   "name": "python",
   "nbconvert_exporter": "python",
   "pygments_lexer": "ipython3",
   "version": "3.9.10"
  }
 },
 "nbformat": 4,
 "nbformat_minor": 1
}
